{
 "cells": [
  {
   "cell_type": "markdown",
   "metadata": {},
   "source": [
    "### Optimal Play v2.0"
   ]
  },
  {
   "cell_type": "markdown",
   "metadata": {},
   "source": [
    "In this document, I will attempt to create an agent that plays optimally. My defintion of optimal is the following:\n",
    "<br>\n",
    "\n",
    "$$\\text{Always pick the move with the highest probability of achieving a win state}$$\n",
    "<br>\n",
    "\n",
    "In code, I want a function that inputs the gamestate and roll and outputs the move with the highest probability of achieving a win state."
   ]
  },
  {
   "cell_type": "markdown",
   "metadata": {},
   "source": [
    "#### Outline \n",
    "<br>\n",
    "\n",
    "1) Uniquely ID every possible gamestate such that the ID can be used both as a unique pointer to a location and a gamestate\n",
    "2) Create a list of all possible winstates for white and black \n",
    "3) Create a dictionary of \n",
    "end) A function that inputs gamestate and roll and outputs the move with the highest probability of achieving a win state"
   ]
  },
  {
   "cell_type": "code",
   "execution_count": 2,
   "metadata": {},
   "outputs": [],
   "source": [
    "import numpy as np\n",
    "import time"
   ]
  },
  {
   "cell_type": "code",
   "execution_count": 3,
   "metadata": {},
   "outputs": [],
   "source": [
    "current_game_state = np.array([[(0,0), (1,0), (1,0), (0,0)], \n",
    "                               [(0,1), (0,1), (0,1), (0,1)], \n",
    "                               [(0,0), (0,1), (0,1), (0,0)]], \n",
    "                               dtype = [('whites', 'i4'), ('blacks', 'i4')])"
   ]
  },
  {
   "cell_type": "markdown",
   "metadata": {},
   "source": [
    "ID unique ordering\n",
    "<br> \n",
    "W2, W3, N1, N2, N3, N4, B2, B3, W1, W4, B1, B4"
   ]
  },
  {
   "cell_type": "code",
   "execution_count": 4,
   "metadata": {},
   "outputs": [],
   "source": [
    "# Function 0: Convert an array into a unique string\n",
    "def array_to_ID(array):\n",
    "    '''\n",
    "    Takes a 3x8 array and converts it into a unique ID \n",
    "    '''\n",
    "    reshaped_array = array.reshape(1,12)\n",
    "    ID = ''\n",
    "    square_0 = tuple(reshaped_array[0][0])\n",
    "    square_1 = tuple(reshaped_array[0][1])\n",
    "    square_2 = tuple(reshaped_array[0][2])\n",
    "    square_3 = tuple(reshaped_array[0][3])\n",
    "    square_4 = tuple(reshaped_array[0][4])\n",
    "    square_5 = tuple(reshaped_array[0][5])\n",
    "    square_6 = tuple(reshaped_array[0][6])\n",
    "    square_7 = tuple(reshaped_array[0][7])\n",
    "    square_8 = tuple(reshaped_array[0][8])\n",
    "    square_9 = tuple(reshaped_array[0][9])\n",
    "    square_10 = tuple(reshaped_array[0][10])\n",
    "    square_11 = tuple(reshaped_array[0][11])\n",
    "    if square_0 == (0,0):\n",
    "        ID += '0'\n",
    "    if square_0 == (1,0):\n",
    "        ID += '1'\n",
    "    if square_3 == (0,0):\n",
    "        ID += '0'\n",
    "    if square_3 == (1,0):\n",
    "        ID += '1'\n",
    "    if square_4 == (0,0):\n",
    "        ID += '0'\n",
    "    if square_4 == (1,0):\n",
    "        ID += '1'\n",
    "    if square_4 == (0,1):\n",
    "        ID += '2'\n",
    "    if square_5 == (0,0):\n",
    "        ID += '0'\n",
    "    if square_5 == (1,0):\n",
    "        ID += '1'\n",
    "    if square_5 == (0,1):\n",
    "        ID += '2'\n",
    "    if square_6 == (0,0):\n",
    "        ID += '0'\n",
    "    if square_6 == (1,0):\n",
    "        ID += '1'\n",
    "    if square_6 == (0,1):\n",
    "        ID += '2'\n",
    "    if square_7 == (0,0):\n",
    "        ID += '0'\n",
    "    if square_7 == (1,0):\n",
    "        ID += '1'\n",
    "    if square_7 == (0,1):\n",
    "        ID += '2'\n",
    "    if square_8 == (0,0):\n",
    "        ID += '0'\n",
    "    if square_8 == (0,1):\n",
    "        ID += '2'\n",
    "    if square_11 == (0,0):\n",
    "        ID += '0'\n",
    "    if square_11 == (0,1):\n",
    "        ID += '2'\n",
    "    if square_1 == (0,0):\n",
    "        ID += '0'\n",
    "    if square_1 == (1,0):\n",
    "        ID += '1'\n",
    "    if square_1 == (2,0):\n",
    "        ID += '3'\n",
    "    if square_2 == (0,0):\n",
    "        ID += '0'\n",
    "    if square_2 == (1,0):\n",
    "        ID += '1'\n",
    "    if square_2 == (2,0):\n",
    "        ID += '3'\n",
    "    if square_9 == (0,0):\n",
    "        ID += '0'\n",
    "    if square_9 == (0,1):\n",
    "        ID += '2'\n",
    "    if square_9 == (0,2):\n",
    "        ID += '4'\n",
    "    if square_10 == (0,0):\n",
    "        ID += '0'\n",
    "    if square_10 == (0,1):\n",
    "        ID += '2'\n",
    "    if square_10 == (0,2):\n",
    "        ID += '4'\n",
    "    \n",
    "    return ID"
   ]
  },
  {
   "cell_type": "code",
   "execution_count": 16,
   "metadata": {},
   "outputs": [
    {
     "name": "stdout",
     "output_type": "stream",
     "text": [
      "002222001122\n",
      "2222001122\n"
     ]
    }
   ],
   "source": [
    "ID = array_to_ID(current_game_state)\n",
    "print(ID)\n",
    "print(int(ID))"
   ]
  },
  {
   "cell_type": "code",
   "execution_count": 17,
   "metadata": {},
   "outputs": [],
   "source": [
    "# Function 2: Convert a str into a tuple \n",
    "def num_to_tuple(number):\n",
    "    '''\n",
    "    Converts a real number into a tuple \n",
    "    '''\n",
    "    if number == '0':\n",
    "        return (0,0)\n",
    "    if number == '1':\n",
    "        return (1,0)\n",
    "    if number == '2': \n",
    "        return (0,1)\n",
    "    if number == '3':\n",
    "        return (2,0)\n",
    "    if number == '4':\n",
    "        return (0,2)\n",
    "    return "
   ]
  },
  {
   "cell_type": "code",
   "execution_count": 18,
   "metadata": {},
   "outputs": [],
   "source": [
    "# Function 3: Convert the unique ID back into the numpy array \n",
    "def unique_to_array(ID):\n",
    "    '''\n",
    "    \n",
    "    '''\n",
    "    s = np.array([[num_to_tuple(ID[0]), num_to_tuple(ID[8]), num_to_tuple(ID[9]), \n",
    "                   num_to_tuple(ID[1]), num_to_tuple(ID[2]), num_to_tuple(ID[3]), \n",
    "                   num_to_tuple(ID[4]), num_to_tuple(ID[5]), num_to_tuple(ID[6]), \n",
    "                   num_to_tuple(ID[10]), num_to_tuple(ID[11]), num_to_tuple(ID[7])]], \n",
    "                               dtype = [('whites', 'i4'), ('blacks', 'i4')])\n",
    "    s = s.reshape(3,4)\n",
    "    \n",
    "    return s"
   ]
  },
  {
   "cell_type": "code",
   "execution_count": 19,
   "metadata": {},
   "outputs": [
    {
     "name": "stdout",
     "output_type": "stream",
     "text": [
      "[[(0, 0) (1, 0) (1, 0) (0, 0)]\n",
      " [(0, 1) (0, 1) (0, 1) (0, 1)]\n",
      " [(0, 0) (0, 1) (0, 1) (0, 0)]]\n"
     ]
    }
   ],
   "source": [
    "\n",
    "gs = unique_to_array(ID)\n",
    "print(gs)"
   ]
  },
  {
   "cell_type": "code",
   "execution_count": 20,
   "metadata": {},
   "outputs": [],
   "source": [
    "import string\n",
    "digs = string.digits + string.ascii_letters\n",
    "def int2base1(x, base):\n",
    "    if x == 0:\n",
    "        return '0000000' + ''.join(digs[0])\n",
    "\n",
    "    digits = []\n",
    "\n",
    "    while x:\n",
    "        digits.append(digs[int(x % base)])\n",
    "        x = int(x / base)\n",
    "\n",
    "    digits.reverse()\n",
    "    \n",
    "    \n",
    "    if len(digits) == 1:\n",
    "        y = '0000000'+ ''.join(digits)   \n",
    "    if len(digits) == 2:\n",
    "        y = '000000'+ ''.join(digits)\n",
    "    if len(digits) == 3:\n",
    "        y = '00000'+ ''.join(digits)\n",
    "    if len(digits) == 4:\n",
    "        y = '0000'+ ''.join(digits)\n",
    "    if len(digits) == 5:\n",
    "        y = '000'+ ''.join(digits)\n",
    "    if len(digits) == 6:\n",
    "        y = '00'+ ''.join(digits)\n",
    "    if len(digits) == 7:\n",
    "        y = '0' + ''.join(digits)\n",
    "    if len(digits) == 8:\n",
    "        y = ''.join(digits)\n",
    "\n",
    "    return y\n",
    "    "
   ]
  },
  {
   "cell_type": "code",
   "execution_count": 21,
   "metadata": {},
   "outputs": [],
   "source": [
    "import string\n",
    "digs = string.digits + string.ascii_letters\n",
    "def int2base2(x, base):\n",
    "    if x == 0:\n",
    "        return '000' + ''.join(digs[0])\n",
    "\n",
    "    digits = []\n",
    "\n",
    "    while x:\n",
    "        digits.append(digs[int(x % base)])\n",
    "        x = int(x / base)\n",
    "\n",
    "    digits.reverse()\n",
    "    \n",
    "    \n",
    "    if len(digits) == 1:\n",
    "        y = '000'+ ''.join(digits)   \n",
    "    if len(digits) == 2:\n",
    "        y = '00'+ ''.join(digits)\n",
    "    if len(digits) == 3:\n",
    "        y = '0'+ ''.join(digits)\n",
    "    if len(digits) == 4:\n",
    "        y = ''+ ''.join(digits)\n",
    "\n",
    "\n",
    "    return y\n",
    "    "
   ]
  },
  {
   "cell_type": "code",
   "execution_count": 22,
   "metadata": {},
   "outputs": [
    {
     "name": "stdout",
     "output_type": "stream",
     "text": [
      "3564\n"
     ]
    },
    {
     "ename": "NameError",
     "evalue": "name 'int2base' is not defined",
     "output_type": "error",
     "traceback": [
      "\u001b[0;31m---------------------------------------------------------------------------\u001b[0m",
      "\u001b[0;31mNameError\u001b[0m                                 Traceback (most recent call last)",
      "\u001b[0;32m<ipython-input-22-d581fc163749>\u001b[0m in \u001b[0;36m<module>\u001b[0;34m()\u001b[0m\n\u001b[1;32m      1\u001b[0m \u001b[0mprint\u001b[0m\u001b[0;34m(\u001b[0m\u001b[0mint\u001b[0m\u001b[0;34m(\u001b[0m\u001b[0;34m'11220000'\u001b[0m\u001b[0;34m,\u001b[0m \u001b[0;36m3\u001b[0m\u001b[0;34m)\u001b[0m\u001b[0;34m)\u001b[0m\u001b[0;34m\u001b[0m\u001b[0m\n\u001b[0;32m----> 2\u001b[0;31m \u001b[0mprint\u001b[0m\u001b[0;34m(\u001b[0m\u001b[0mint2base\u001b[0m\u001b[0;34m(\u001b[0m\u001b[0;36m2187\u001b[0m\u001b[0;34m,\u001b[0m \u001b[0;36m3\u001b[0m\u001b[0;34m)\u001b[0m\u001b[0;34m)\u001b[0m\u001b[0;34m\u001b[0m\u001b[0m\n\u001b[0m\u001b[1;32m      3\u001b[0m \u001b[0mprint\u001b[0m\u001b[0;34m(\u001b[0m\u001b[0mint\u001b[0m\u001b[0;34m(\u001b[0m\u001b[0;34m'3040'\u001b[0m\u001b[0;34m,\u001b[0m \u001b[0;36m5\u001b[0m\u001b[0;34m)\u001b[0m\u001b[0;34m)\u001b[0m\u001b[0;34m\u001b[0m\u001b[0m\n",
      "\u001b[0;31mNameError\u001b[0m: name 'int2base' is not defined"
     ]
    }
   ],
   "source": [
    "print(int('11220000', 3))\n",
    "print(int2base(2187, 3))\n",
    "print(int('3040', 5))"
   ]
  },
  {
   "cell_type": "code",
   "execution_count": 23,
   "metadata": {},
   "outputs": [],
   "source": [
    "# Function 4: Calculate all possible gamestates \n",
    "def calculate_states():\n",
    "    '''\n",
    "    \n",
    "    '''\n",
    "    gamestates = [] \n",
    "    \n",
    "    for i in range(0,3564+1):\n",
    "        ID = str(int2base1(i, 3))\n",
    "        for j in range(0, 395+1):\n",
    "            ID = str(int2base1(i, 3))\n",
    "            ID += str(int2base2(j, 5))\n",
    "            gamestates.append(ID)\n",
    "        \n",
    "    return gamestates"
   ]
  },
  {
   "cell_type": "code",
   "execution_count": 24,
   "metadata": {},
   "outputs": [
    {
     "name": "stdout",
     "output_type": "stream",
     "text": [
      "9.811745166778564 seconds\n",
      "1411740\n"
     ]
    }
   ],
   "source": [
    "time_start = time.time()\n",
    "game_states = calculate_states()\n",
    "time_end = time.time()\n",
    "time_taken = time_end - time_start \n",
    "print(time_taken, \"seconds\")\n",
    "print(len(game_states))"
   ]
  },
  {
   "cell_type": "code",
   "execution_count": 25,
   "metadata": {},
   "outputs": [
    {
     "name": "stdout",
     "output_type": "stream",
     "text": [
      "112200003040\n"
     ]
    },
    {
     "data": {
      "text/plain": [
       "12383856"
      ]
     },
     "execution_count": 25,
     "metadata": {},
     "output_type": "execute_result"
    }
   ],
   "source": [
    "print(game_states[1411739])\n",
    "import sys\n",
    "sys.getsizeof(game_states)"
   ]
  },
  {
   "cell_type": "markdown",
   "metadata": {},
   "source": [
    "We now have a list that contains at least all of the possible gamestates in our game of ur. It contains 1,411,740 elements. Given any of the strings, we can reconstruct a gamestate, remembering that some of them are valid and some are not. "
   ]
  },
  {
   "cell_type": "markdown",
   "metadata": {},
   "source": [
    "What's next? \n",
    "\n",
    "Create a mapping from one state to a previous state "
   ]
  },
  {
   "cell_type": "code",
   "execution_count": 26,
   "metadata": {},
   "outputs": [],
   "source": [
    "# Function 5: create two lists of all black win states and white win states\n",
    "\n",
    "def gs_to_wgs(gs):\n",
    "    '''\n",
    "    gs = list of gamestates\n",
    "    '''\n",
    "    \n",
    "    white_wgs = []\n",
    "    black_wgs = []\n",
    "    \n",
    "    for i in gs:\n",
    "        if i[9] == '3' and i[8] == '0' and i[11] != '4' and i[0] == '0' and i[1] == '0' and i[4] != '1' and i[5] != '1' and i[6] != '1' and i[7] != '1':\n",
    "            white_wgs.append(i)\n",
    "        if i[11] == '4' and i[10] == '0': # black has two pieces in the end square and home must have 0\n",
    "            if i[9] != '3' and i[8] != '4' and i[8] != '2' and i[9] != '4' and i[9] != '2': # white cannot have two pieces in his end square and white's home/end cannot have one or two black pieces\n",
    "                if i[1] != '2' and i[2] != '2' and i[3] != '2' and i[4] != '2' and i[5] != '2' and i[6] != '2' and i[7] != '2': # there can be no black pieces on the board\n",
    "                    if (int(i[0]) + int(i[1]) + int(i[2]) + int(i[3]) + int(i[4]) + int(i[5]) + int(i[6]) + int(i[7])) <= 2: #The sum of the first 0-7 digits must be less than or equal to 2\n",
    "                        if i[6] != '1' and i[7] != '1': # cannot be white pieces in black only tiles\n",
    "                            if i[8] == '3' and (int(i[0]) + int(i[1]) + int(i[2]) + int(i[3]) + int(i[4]) + int(i[5]) > 0): #if 2 whites in white's home, there must be no whites on board\n",
    "                                continue\n",
    "                            if i[8] == '1' and i[9] == '1' and (int(i[0]) + int(i[1]) + int(i[2]) + int(i[3]) + int(i[4]) + int(i[5]) > 0): #if there is one white in end and last tile, sum of beginning should be 0 \n",
    "                                continue\n",
    "                            if i[8] == '1' and i[9] == '0' and (int(i[0]) + int(i[1]) + int(i[2]) + int(i[3]) + int(i[4]) + int(i[5]) != 1): #if there is one white in end and last tile, sum of beginning should be 0 \n",
    "                                continue\n",
    "                            if i[8] == '0' and i[9] == '1' and (int(i[0]) + int(i[1]) + int(i[2]) + int(i[3]) + int(i[4]) + int(i[5]) != 1): #if there is one white in end and last tile, sum of beginning should be 0 \n",
    "                                continue\n",
    "                            if i[8] == '0' and i[9] == '0' and (int(i[0]) + int(i[1]) + int(i[2]) + int(i[3]) + int(i[4]) + int(i[5]) != 2): #if there is one white in end and last tile, sum of beginning should be 0 \n",
    "                                continue\n",
    "                                \n",
    "                                \n",
    "                            black_wgs.append(i) \n",
    "    \n",
    "    return white_wgs, black_wgs"
   ]
  },
  {
   "cell_type": "code",
   "execution_count": 27,
   "metadata": {},
   "outputs": [],
   "source": [
    "white_wgs, black_wgs = gs_to_wgs(game_states)"
   ]
  },
  {
   "cell_type": "code",
   "execution_count": 28,
   "metadata": {},
   "outputs": [
    {
     "name": "stdout",
     "output_type": "stream",
     "text": [
      "2880\n",
      "29\n",
      "\n"
     ]
    }
   ],
   "source": [
    "print(len(white_wgs))\n",
    "print(len(black_wgs))\n",
    "print()"
   ]
  },
  {
   "cell_type": "markdown",
   "metadata": {},
   "source": [
    "            if i[8] != '2' and i[10] =='0' and i[9] != '3' and i[9] != '2' and i[9] != '4' and i[1] != '2' and i[2] != '2' and i[3] != '2' and i[4] != '2' and i[5] != '2' and i[6] == '0' and i[7] == '0':\n",
    "            if i[8] == '3' and (int(i[0]) + int(i[1]) + int(i[2]) + int(i[3]) + int(i[4]) + int(i[5]) + int(i[6]) + int(i[7])) != 0:\n",
    "                break"
   ]
  },
  {
   "cell_type": "code",
   "execution_count": null,
   "metadata": {},
   "outputs": [],
   "source": []
  },
  {
   "cell_type": "code",
   "execution_count": 29,
   "metadata": {},
   "outputs": [
    {
     "name": "stdout",
     "output_type": "stream",
     "text": [
      "000000001104\n",
      "000000003004\n",
      "000001000104\n",
      "000001001004\n",
      "000010000104\n",
      "000010001004\n",
      "000011000004\n",
      "000100000104\n",
      "000100001004\n",
      "000101000004\n",
      "000110000004\n",
      "001000000104\n",
      "001000001004\n",
      "001001000004\n",
      "001010000004\n",
      "001100000004\n",
      "010000000104\n",
      "010000001004\n",
      "010001000004\n",
      "010010000004\n",
      "010100000004\n",
      "011000000004\n",
      "100000000104\n",
      "100000001004\n",
      "100001000004\n",
      "100010000004\n",
      "100100000004\n",
      "101000000004\n",
      "110000000004\n",
      "29\n"
     ]
    }
   ],
   "source": [
    "for i in black_wgs:\n",
    "    print(i)\n",
    "print(len(black_wgs))"
   ]
  },
  {
   "cell_type": "markdown",
   "metadata": {},
   "source": [
    "In order to get the win probability from a given game state, you can simulate the game some number of times in order to see how many times that player will win. "
   ]
  },
  {
   "cell_type": "markdown",
   "metadata": {},
   "source": [
    "### Variables\n",
    "\n",
    "TW = dictionary of dictionaries for white\n",
    "<br>\n",
    "TB = dictionary of dictionaries for black \n",
    "<br>\n",
    "W_1 = TW['1'] = dictionary for white with roll 1 \n",
    "<br>\n",
    "W_2 = TW['2'] = dictionary for white with roll 2 \n",
    "<br>\n",
    "B_1 = TB['1'] = dictionary for black with roll 1 \n",
    "<br>\n",
    "B_2 = TB['2'] = dictionary for black with roll 2\n",
    "<br> \n",
    "Example of a dictionary entry \n",
    "<br>\n",
    "W_1['030400000000'] = ('110400000000', '000002000302', 0.12)\n",
    "\n",
    "The first entry is the optimal move, the second entry is the endstate that is most likely from the current gamestate, and the third entry is the probability of getting to endstate given in the second entry.\n",
    "\n",
    "The next step is calculate which moves are optimal, which endstate is most likely from a given state, and the probability of getting to that end state from the current endstate. Plan of attack is to write three helper functions that do those three tasks and write one function that builds the dictionary of dictionaries. \n",
    "<br>\n"
   ]
  },
  {
   "cell_type": "markdown",
   "metadata": {},
   "source": [
    "### Dynamic Programming\n",
    "\n",
    "1) Specify the gamestates that are roll=1 and roll=2 away from a win state for both black and white. Useful: there are 29 winstates for black and 29 winstates for white. There are 683 possible game states. "
   ]
  },
  {
   "cell_type": "code",
   "execution_count": null,
   "metadata": {},
   "outputs": [],
   "source": [
    "def one_or_two_away():\n",
    "    '''\n",
    "    '''\n",
    "    return \n"
   ]
  },
  {
   "cell_type": "markdown",
   "metadata": {},
   "source": [
    "$\\text{[sb]}^2.$"
   ]
  },
  {
   "cell_type": "code",
   "execution_count": null,
   "metadata": {},
   "outputs": [],
   "source": []
  }
 ],
 "metadata": {
  "kernelspec": {
   "display_name": "Python 3",
   "language": "python",
   "name": "python3"
  },
  "language_info": {
   "codemirror_mode": {
    "name": "ipython",
    "version": 3
   },
   "file_extension": ".py",
   "mimetype": "text/x-python",
   "name": "python",
   "nbconvert_exporter": "python",
   "pygments_lexer": "ipython3",
   "version": "3.6.3"
  }
 },
 "nbformat": 4,
 "nbformat_minor": 2
}
