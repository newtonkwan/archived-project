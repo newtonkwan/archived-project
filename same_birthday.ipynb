{
 "cells": [
  {
   "cell_type": "markdown",
   "metadata": {},
   "source": [
    "# Same Birthdays\n",
    "\n",
    "### This can be used to calculate the likelihood that someone in the room has the same birthday as you "
   ]
  },
  {
   "cell_type": "code",
   "execution_count": null,
   "metadata": {},
   "outputs": [],
   "source": [
    "def nobdays(n):\n",
    "    '''\n",
    "    Given n students, this calculates the chance that nobody\n",
    "    has the same birthday\n",
    "    '''\n",
    "    if n == 1: \n",
    "        return 1\n",
    "    elif n >= 2: \n",
    "        return (1 - (n-1)/365)*nobdays(n-1)\n",
    "    \n",
    "n = 2                             # number of people    \n",
    "samebday = (1 - nobdays(n))*100   # chance of at least 1 same bday in percent\n",
    "print(\"With\", n, \"people, the chances of at least two people having the same birthday is {0:.2f}%\".format(samebday))"
   ]
  },
  {
   "cell_type": "code",
   "execution_count": 53,
   "metadata": {},
   "outputs": [
    {
     "name": "stdout",
     "output_type": "stream",
     "text": [
      "With 5 people, the chances of at least two people having the same zodiac is 61.81%\n"
     ]
    }
   ],
   "source": [
    "def nozodiacs(n):\n",
    "    '''\n",
    "    Given n students, this calculates the chance that nobody\n",
    "    has the same zodiac\n",
    "    '''\n",
    "    if n == 1: \n",
    "        return 1\n",
    "    elif n >= 2: \n",
    "        return (1 - (n-1)/12)*nozodiacs(n-1)\n",
    "    \n",
    "n = 5                             # number of people    \n",
    "samebday = (1 - nozodiacs(n))*100   # chance of at least 1 same zodiac in percent\n",
    "print(\"With\", n, \"people, the chances of at least two people having the same zodiac is {0:.2f}%\".format(samebday))"
   ]
  }
 ],
 "metadata": {
  "kernelspec": {
   "display_name": "Python 3",
   "language": "python",
   "name": "python3"
  },
  "language_info": {
   "codemirror_mode": {
    "name": "ipython",
    "version": 3
   },
   "file_extension": ".py",
   "mimetype": "text/x-python",
   "name": "python",
   "nbconvert_exporter": "python",
   "pygments_lexer": "ipython3",
   "version": "3.6.3"
  }
 },
 "nbformat": 4,
 "nbformat_minor": 2
}
