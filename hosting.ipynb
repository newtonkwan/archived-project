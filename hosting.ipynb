{
 "cells": [
  {
   "cell_type": "markdown",
   "metadata": {},
   "source": [
    "# Alora (RSPS) Hosting Blackjack Odds \n",
    "\n",
    "### Calculates the odds of winning 'blackjack' as a host \n",
    "Blackjack (bj) was a commonly played gambling game in Runescape. The rules are simple. To start a game, a better will trade a host any amount of gold (Ex. 10 million gold pieces). Once the trade has been accepted, the host initiates the game. The host will roll a die using an in-game \"dice bag\" that can roll 0-100 (integers) i.d.d. The roll is displayed publicly and once the outcome of the roll is known to both players, the better will choose between two options: hit or stay. If the better chooses to stay, the number that was rolled becomes the better's number. If the better chooses to hit, the die will be rolled again and the outcome of the second roll will be added to the first roll. If the sum of the two rolls is greater than 100, the game is over and the host keeps the bet. If the sum of the two rolls is not greater than 100, the better will again choose to hit or stay. If the better chooses to hit, the roll adds to the sum of the second and first roll; hit again, the roll adds to the sum of the third, second, and first roll, etc. If the better's number is not greater than 100 and the better chooses to stay, the host will now continue to roll the die until the sum of his rolls is greater than the better's number or the sum of the host's rolls are greater than 100. If the sum of the host's rolls are greater than the better's number but not greater than 100, the host wins and keeps the bet. If the sum of the host's rolls greater than 100, than the better wins and is given double his bet. "
   ]
  },
  {
   "cell_type": "code",
   "execution_count": 1,
   "metadata": {},
   "outputs": [],
   "source": [
    "import numpy as np\n",
    "import pylab as pyl\n",
    "%matplotlib inline"
   ]
  },
  {
   "cell_type": "code",
   "execution_count": 62,
   "metadata": {},
   "outputs": [],
   "source": [
    "testing = False # True will print statements\n",
    "better_stops = 1"
   ]
  },
  {
   "cell_type": "code",
   "execution_count": 63,
   "metadata": {},
   "outputs": [],
   "source": [
    "def play_blackjack(testing, better_stops):\n",
    "    '''\n",
    "    Plays one round of blackjack Runescape rules \n",
    "    \n",
    "    Output: tuple of (host wins, better wins)\n",
    "    '''\n",
    "    host_wins = 0 \n",
    "    better_wins = 0 \n",
    "\n",
    "    total_better_roll = 0  \n",
    "    while total_better_roll < better_stops: \n",
    "        next_roll = np.random.randint(1,101)\n",
    "        if testing == True:\n",
    "            print(\"Better rolls\", next_roll)\n",
    "        total_better_roll += next_roll\n",
    "        if testing == True: \n",
    "            print(\"Current better total\", total_better_roll)\n",
    "        if total_better_roll > 100:\n",
    "            host_wins += 1\n",
    "            if testing == True:\n",
    "                print(\"Better busts\")\n",
    "            winner = (host_wins, better_wins)\n",
    "            return winner\n",
    "            break \n",
    "    host_roll = 0\n",
    "    while host_roll <= total_better_roll:\n",
    "        next_roll = np.random.randint(1,101)\n",
    "        if testing == True:\n",
    "            print(\"Host rolls\", next_roll)\n",
    "        host_roll += next_roll \n",
    "        if testing == True:\n",
    "            print(\"Current host total\", host_roll)\n",
    "        if host_roll == 100 and total_better_roll == 100:\n",
    "            if testing == True:\n",
    "                print(\"no one wins\")\n",
    "            winner = (0,0)\n",
    "            return winner \n",
    "            break \n",
    "        if host_roll > total_better_roll and host_roll <= 100:\n",
    "            host_wins +=1 \n",
    "            if testing == True:\n",
    "                print(\"host wins\")\n",
    "            \n",
    "            winner = (host_wins, better_wins)\n",
    "            return winner \n",
    "            break\n",
    "        if host_roll > 100:\n",
    "            if testing == True:\n",
    "                print(\"Better wins\")\n",
    "            better_wins += 1\n",
    "            winner = (host_wins, better_wins)\n",
    "            return winner\n",
    "            break \n",
    "            \n",
    "    winner = (host_wins, better_wins)\n",
    "    return winner "
   ]
  },
  {
   "cell_type": "code",
   "execution_count": 64,
   "metadata": {},
   "outputs": [
    {
     "data": {
      "text/plain": [
       "(0, 1)"
      ]
     },
     "execution_count": 64,
     "metadata": {},
     "output_type": "execute_result"
    }
   ],
   "source": [
    "play_blackjack(testing, better_stops)"
   ]
  },
  {
   "cell_type": "code",
   "execution_count": 65,
   "metadata": {},
   "outputs": [
    {
     "name": "stdout",
     "output_type": "stream",
     "text": [
      "For a better stop at 1 the better win % is 29.09\n",
      "For a better stop at 2 the better win % is 29.224\n",
      "For a better stop at 3 the better win % is 29.15\n",
      "For a better stop at 4 the better win % is 29.962\n",
      "For a better stop at 5 the better win % is 30.304\n",
      "For a better stop at 6 the better win % is 30.172\n",
      "For a better stop at 7 the better win % is 30.38\n",
      "For a better stop at 8 the better win % is 30.902\n",
      "For a better stop at 9 the better win % is 30.596\n",
      "For a better stop at 10 the better win % is 31.392\n",
      "For a better stop at 11 the better win % is 31.606\n",
      "For a better stop at 12 the better win % is 32.29\n",
      "For a better stop at 13 the better win % is 32.292\n",
      "For a better stop at 14 the better win % is 32.498\n",
      "For a better stop at 15 the better win % is 33.142\n",
      "For a better stop at 16 the better win % is 33.412\n",
      "For a better stop at 17 the better win % is 33.698\n",
      "For a better stop at 18 the better win % is 33.812\n",
      "For a better stop at 19 the better win % is 34.322\n",
      "For a better stop at 20 the better win % is 34.562\n",
      "For a better stop at 21 the better win % is 34.872\n",
      "For a better stop at 22 the better win % is 35.03\n",
      "For a better stop at 23 the better win % is 35.746\n",
      "For a better stop at 24 the better win % is 35.866\n",
      "For a better stop at 25 the better win % is 36.574\n",
      "For a better stop at 26 the better win % is 36.534\n",
      "For a better stop at 27 the better win % is 36.724\n",
      "For a better stop at 28 the better win % is 37.166\n",
      "For a better stop at 29 the better win % is 37.694\n",
      "For a better stop at 30 the better win % is 37.554\n",
      "For a better stop at 31 the better win % is 37.868\n",
      "For a better stop at 32 the better win % is 37.888\n",
      "For a better stop at 33 the better win % is 38.44\n",
      "For a better stop at 34 the better win % is 38.824\n",
      "For a better stop at 35 the better win % is 39.212\n",
      "For a better stop at 36 the better win % is 39.718\n",
      "For a better stop at 37 the better win % is 39.676\n",
      "For a better stop at 38 the better win % is 40.094\n",
      "For a better stop at 39 the better win % is 40.614\n",
      "For a better stop at 40 the better win % is 40.668\n",
      "For a better stop at 41 the better win % is 40.764\n",
      "For a better stop at 42 the better win % is 40.99\n",
      "For a better stop at 43 the better win % is 41.484\n",
      "For a better stop at 44 the better win % is 41.55\n",
      "For a better stop at 45 the better win % is 41.656\n",
      "For a better stop at 46 the better win % is 41.998\n",
      "For a better stop at 47 the better win % is 42.06\n",
      "For a better stop at 48 the better win % is 42.688\n",
      "For a better stop at 49 the better win % is 42.512\n",
      "For a better stop at 50 the better win % is 42.434\n",
      "For a better stop at 51 the better win % is 42.718\n",
      "For a better stop at 52 the better win % is 42.462\n",
      "For a better stop at 53 the better win % is 42.844\n",
      "For a better stop at 54 the better win % is 42.836\n",
      "For a better stop at 55 the better win % is 43.164\n",
      "For a better stop at 56 the better win % is 42.95\n",
      "For a better stop at 57 the better win % is 43.204\n",
      "For a better stop at 58 the better win % is 42.728\n",
      "For a better stop at 59 the better win % is 42.996\n",
      "For a better stop at 60 the better win % is 43.09\n",
      "For a better stop at 61 the better win % is 42.888\n",
      "For a better stop at 62 the better win % is 43.244\n",
      "For a better stop at 63 the better win % is 42.92\n",
      "For a better stop at 64 the better win % is 42.862\n",
      "For a better stop at 65 the better win % is 42.452\n",
      "For a better stop at 66 the better win % is 42.488\n",
      "For a better stop at 67 the better win % is 42.046\n",
      "For a better stop at 68 the better win % is 41.712\n",
      "For a better stop at 69 the better win % is 41.126\n",
      "For a better stop at 70 the better win % is 40.924\n",
      "For a better stop at 71 the better win % is 40.536\n",
      "For a better stop at 72 the better win % is 40.066\n",
      "For a better stop at 73 the better win % is 40.008\n",
      "For a better stop at 74 the better win % is 39.316\n",
      "For a better stop at 75 the better win % is 38.718\n",
      "For a better stop at 76 the better win % is 38.24\n",
      "For a better stop at 77 the better win % is 37.85\n",
      "For a better stop at 78 the better win % is 36.586\n",
      "For a better stop at 79 the better win % is 35.888\n",
      "For a better stop at 80 the better win % is 35.398\n",
      "For a better stop at 81 the better win % is 34.49\n",
      "For a better stop at 82 the better win % is 33.232\n",
      "For a better stop at 83 the better win % is 32.222\n",
      "For a better stop at 84 the better win % is 31.154\n",
      "For a better stop at 85 the better win % is 30.102\n",
      "For a better stop at 86 the better win % is 28.602\n",
      "For a better stop at 87 the better win % is 27.696\n",
      "For a better stop at 88 the better win % is 26.37\n",
      "For a better stop at 89 the better win % is 24.818\n",
      "For a better stop at 90 the better win % is 23.21\n",
      "For a better stop at 91 the better win % is 21.942\n",
      "For a better stop at 92 the better win % is 20.026\n",
      "For a better stop at 93 the better win % is 18.002\n",
      "For a better stop at 94 the better win % is 16.086\n",
      "For a better stop at 95 the better win % is 14.25\n",
      "For a better stop at 96 the better win % is 12.086\n",
      "For a better stop at 97 the better win % is 9.804\n",
      "For a better stop at 98 the better win % is 7.51\n"
     ]
    }
   ],
   "source": [
    "# play the game many times \n",
    "host = 0 \n",
    "better = 0 \n",
    "playtimes = 50000\n",
    "better_stop_list = []\n",
    "better_stop_range = list(range(1, 99))\n",
    "\n",
    "for j in better_stop_range:\n",
    "    better_stops = j\n",
    "    host = 0 \n",
    "    better = 0 \n",
    "    for i in range(0, playtimes):\n",
    "        winner = play_blackjack(testing, better_stops)\n",
    "        if winner == (1,0):\n",
    "            host += 1\n",
    "        if winner == (0,1):\n",
    "            better +=1\n",
    "    #print(\"Host wins \", 100 * host / playtimes, \"% of the time\")\n",
    "    #print(\"Better wins \", 100 * better / playtimes , \"% of the time\")\n",
    "    better_win_percentage = 100 * better / playtimes\n",
    "    print(\"For a better stop at\", better_stops, \"the better win % is\", better_win_percentage)\n",
    "    better_stop_list.append(better_win_percentage)\n",
    "    \n",
    "\n",
    "#print(\"Total games played:\", host + better)\n",
    "\n",
    "#print(\"Better stop list\", better_stop_list)\n",
    "#pyl.plot(better_stop_range, better_stop_list)\n",
    "#pyl.ylabel(\"Win percentage\")\n",
    "#pyl.xlabel(\"Better stop number\")\n",
    "#pyl.title(\"Better win percentage vs. Better stop number\")"
   ]
  },
  {
   "cell_type": "code",
   "execution_count": 74,
   "metadata": {},
   "outputs": [
    {
     "name": "stdout",
     "output_type": "stream",
     "text": [
      "Max better win percentage is  43.244\n",
      "For the better to play optimally, they should stop at  61\n"
     ]
    },
    {
     "data": {
      "image/png": "[encoded data removed]",
      "text/plain": [
       "<matplotlib.figure.Figure at 0x10708c6a0>"
      ]
     },
     "metadata": {},
     "output_type": "display_data"
    }
   ],
   "source": [
    "pyl.plot(better_stop_range, better_stop_list)\n",
    "pyl.ylabel(\"Win percentage\")\n",
    "pyl.xlabel(\"Better stop number\")\n",
    "pyl.title(\"Better win percentage vs. Better stop number\")\n",
    "best_better_win_perc = max(better_stop_list)\n",
    "print(\"Max better win percentage is \", best_better_win_perc)\n",
    "index_of_best_better_win_perc = better_stop_list.index(best_better_win_perc)\n",
    "print(\"For the better to play optimally, they should stop at \", index_of_best_better_win_perc)\n",
    "\n",
    "#print(type(better_stop_range))\n",
    "#print(\"Position\", better_stop_range)"
   ]
  },
  {
   "cell_type": "code",
   "execution_count": 109,
   "metadata": {},
   "outputs": [],
   "source": [
    "better_roll = 80 \n",
    "testing = True"
   ]
  },
  {
   "cell_type": "code",
   "execution_count": 95,
   "metadata": {},
   "outputs": [],
   "source": [
    "def odds_given_better_roll(testing, better_roll):\n",
    "    '''\n",
    "    Plays the host round of blackjack given the better roll \n",
    "    \n",
    "    Output: tuple of (host wins, better wins)\n",
    "    '''\n",
    "    host_wins = 0 \n",
    "    better_wins = 0 \n",
    "\n",
    "    if testing == True:\n",
    "        print(\"Better rolls\", better_roll)\n",
    "    host_roll = 0\n",
    "    while host_roll <= better_roll:\n",
    "        next_roll = np.random.randint(1,101)\n",
    "        if testing == True:\n",
    "            print(\"Host rolls\", next_roll)\n",
    "        host_roll += next_roll \n",
    "        if testing == True:\n",
    "            print(\"Current host total:\", host_roll)\n",
    "        if host_roll == 100 and better_roll == 100:\n",
    "            if testing == True:\n",
    "                print(\"no one wins\")\n",
    "            winner = (0,0)\n",
    "            return winner \n",
    "            break \n",
    "        if host_roll > better_roll and host_roll <= 100:\n",
    "            host_wins +=1 \n",
    "            if testing == True:\n",
    "                print(\"host wins\")\n",
    "            \n",
    "            winner = (host_wins, better_wins)\n",
    "            return winner \n",
    "            break\n",
    "        if host_roll > 100:\n",
    "            if testing == True:\n",
    "                print(\"Better wins\")\n",
    "            better_wins += 1\n",
    "            winner = (host_wins, better_wins)\n",
    "            return winner\n",
    "            break \n",
    "            \n",
    "    winner = (host_wins, better_wins)\n",
    "    return winner "
   ]
  },
  {
   "cell_type": "code",
   "execution_count": 111,
   "metadata": {},
   "outputs": [
    {
     "name": "stdout",
     "output_type": "stream",
     "text": [
      "Better rolls 80\n",
      "Host rolls 21\n",
      "Current host total: 21\n",
      "Host rolls 19\n",
      "Current host total: 40\n",
      "Host rolls 82\n",
      "Current host total: 122\n",
      "Better wins\n"
     ]
    },
    {
     "data": {
      "text/plain": [
       "(0, 1)"
      ]
     },
     "execution_count": 111,
     "metadata": {},
     "output_type": "execute_result"
    }
   ],
   "source": [
    "odds_given_better_roll(testing, better_roll)"
   ]
  },
  {
   "cell_type": "code",
   "execution_count": 107,
   "metadata": {},
   "outputs": [
    {
     "name": "stdout",
     "output_type": "stream",
     "text": [
      "If the better rolls a 1 the chance of the better winning is 0.01\n",
      "If the better rolls a 2 the chance of the better winning is 0.02\n",
      "If the better rolls a 3 the chance of the better winning is 0.06\n",
      "If the better rolls a 4 the chance of the better winning is 0.12\n",
      "If the better rolls a 5 the chance of the better winning is 0.11\n",
      "If the better rolls a 6 the chance of the better winning is 0.17\n",
      "If the better rolls a 7 the chance of the better winning is 0.23\n",
      "If the better rolls a 8 the chance of the better winning is 0.33\n",
      "If the better rolls a 9 the chance of the better winning is 0.44\n",
      "If the better rolls a 10 the chance of the better winning is 0.44\n",
      "If the better rolls a 11 the chance of the better winning is 0.71\n",
      "If the better rolls a 12 the chance of the better winning is 0.83\n",
      "If the better rolls a 13 the chance of the better winning is 1.15\n",
      "If the better rolls a 14 the chance of the better winning is 1.11\n",
      "If the better rolls a 15 the chance of the better winning is 1.22\n",
      "If the better rolls a 16 the chance of the better winning is 1.52\n",
      "If the better rolls a 17 the chance of the better winning is 1.82\n",
      "If the better rolls a 18 the chance of the better winning is 1.99\n",
      "If the better rolls a 19 the chance of the better winning is 2.15\n",
      "If the better rolls a 20 the chance of the better winning is 2.34\n",
      "If the better rolls a 21 the chance of the better winning is 2.77\n",
      "If the better rolls a 22 the chance of the better winning is 2.79\n",
      "If the better rolls a 23 the chance of the better winning is 3.35\n",
      "If the better rolls a 24 the chance of the better winning is 3.53\n",
      "If the better rolls a 25 the chance of the better winning is 3.56\n",
      "If the better rolls a 26 the chance of the better winning is 4.27\n",
      "If the better rolls a 27 the chance of the better winning is 4.31\n",
      "If the better rolls a 28 the chance of the better winning is 4.92\n",
      "If the better rolls a 29 the chance of the better winning is 5.04\n",
      "If the better rolls a 30 the chance of the better winning is 5.73\n",
      "If the better rolls a 31 the chance of the better winning is 6.24\n",
      "If the better rolls a 32 the chance of the better winning is 6.13\n",
      "If the better rolls a 33 the chance of the better winning is 7.2\n",
      "If the better rolls a 34 the chance of the better winning is 7.95\n",
      "If the better rolls a 35 the chance of the better winning is 8.16\n",
      "If the better rolls a 36 the chance of the better winning is 8.37\n",
      "If the better rolls a 37 the chance of the better winning is 9.09\n",
      "If the better rolls a 38 the chance of the better winning is 9.57\n",
      "If the better rolls a 39 the chance of the better winning is 10.12\n",
      "If the better rolls a 40 the chance of the better winning is 10.91\n",
      "If the better rolls a 41 the chance of the better winning is 10.95\n",
      "If the better rolls a 42 the chance of the better winning is 11.62\n",
      "If the better rolls a 43 the chance of the better winning is 11.98\n",
      "If the better rolls a 44 the chance of the better winning is 13.29\n",
      "If the better rolls a 45 the chance of the better winning is 13.78\n",
      "If the better rolls a 46 the chance of the better winning is 14.77\n",
      "If the better rolls a 47 the chance of the better winning is 15.27\n",
      "If the better rolls a 48 the chance of the better winning is 15.92\n",
      "If the better rolls a 49 the chance of the better winning is 17.16\n",
      "If the better rolls a 50 the chance of the better winning is 17.66\n",
      "If the better rolls a 51 the chance of the better winning is 19.28\n",
      "If the better rolls a 52 the chance of the better winning is 20.75\n",
      "If the better rolls a 53 the chance of the better winning is 20.4\n",
      "If the better rolls a 54 the chance of the better winning is 21.49\n",
      "If the better rolls a 55 the chance of the better winning is 22.55\n",
      "If the better rolls a 56 the chance of the better winning is 23.15\n",
      "If the better rolls a 57 the chance of the better winning is 24.55\n",
      "If the better rolls a 58 the chance of the better winning is 25.03\n",
      "If the better rolls a 59 the chance of the better winning is 26.2\n",
      "If the better rolls a 60 the chance of the better winning is 27.65\n",
      "If the better rolls a 61 the chance of the better winning is 28.98\n",
      "If the better rolls a 62 the chance of the better winning is 30.01\n",
      "If the better rolls a 63 the chance of the better winning is 30.32\n",
      "If the better rolls a 64 the chance of the better winning is 31.15\n",
      "If the better rolls a 65 the chance of the better winning is 32.84\n",
      "If the better rolls a 66 the chance of the better winning is 33.64\n",
      "If the better rolls a 67 the chance of the better winning is 35.71\n",
      "If the better rolls a 68 the chance of the better winning is 36.93\n",
      "If the better rolls a 69 the chance of the better winning is 37.7\n",
      "If the better rolls a 70 the chance of the better winning is 40.31\n",
      "If the better rolls a 71 the chance of the better winning is 41.17\n",
      "If the better rolls a 72 the chance of the better winning is 42.48\n",
      "If the better rolls a 73 the chance of the better winning is 44.56\n",
      "If the better rolls a 74 the chance of the better winning is 44.87\n",
      "If the better rolls a 75 the chance of the better winning is 46.84\n",
      "If the better rolls a 76 the chance of the better winning is 49.13\n",
      "If the better rolls a 77 the chance of the better winning is 50.33\n",
      "If the better rolls a 78 the chance of the better winning is 51.39\n",
      "If the better rolls a 79 the chance of the better winning is 54.08\n",
      "If the better rolls a 80 the chance of the better winning is 55.25\n",
      "If the better rolls a 81 the chance of the better winning is 58.28\n",
      "If the better rolls a 82 the chance of the better winning is 60.29\n",
      "If the better rolls a 83 the chance of the better winning is 61.26\n",
      "If the better rolls a 84 the chance of the better winning is 63.16\n",
      "If the better rolls a 85 the chance of the better winning is 64.31\n",
      "If the better rolls a 86 the chance of the better winning is 67.02\n",
      "If the better rolls a 87 the chance of the better winning is 68.95\n",
      "If the better rolls a 88 the chance of the better winning is 71.33\n",
      "If the better rolls a 89 the chance of the better winning is 73.21\n",
      "If the better rolls a 90 the chance of the better winning is 75.45\n",
      "If the better rolls a 91 the chance of the better winning is 78.32\n",
      "If the better rolls a 92 the chance of the better winning is 79.71\n",
      "If the better rolls a 93 the chance of the better winning is 82.19\n",
      "If the better rolls a 94 the chance of the better winning is 84.79\n",
      "If the better rolls a 95 the chance of the better winning is 87.57\n",
      "If the better rolls a 96 the chance of the better winning is 90.26\n",
      "If the better rolls a 97 the chance of the better winning is 92.36\n",
      "If the better rolls a 98 the chance of the better winning is 94.45\n",
      "If the better rolls a 99 the chance of the better winning is 97.54\n"
     ]
    }
   ],
   "source": [
    "# play the game many times \n",
    "host = 0 \n",
    "better = 0 \n",
    "playtimes = 10000\n",
    "better_roll_list = []\n",
    "better_roll_range = list(range(1, 100))\n",
    "\n",
    "for j in better_roll_range:\n",
    "    better_roll = j\n",
    "    host = 0 \n",
    "    better = 0 \n",
    "    for i in range(0, playtimes):\n",
    "        winner = odds_given_better_roll(testing, better_roll)\n",
    "        if winner == (1,0):\n",
    "            host += 1\n",
    "        if winner == (0,1):\n",
    "            better +=1\n",
    "    #print(\"Host wins \", 100 * host / playtimes, \"% of the time\")\n",
    "    #print(\"Better wins \", 100 * better / playtimes , \"% of the time\")\n",
    "    better_win_percentage = 100 * better / playtimes\n",
    "    print(\"If the better rolls a\", better_roll, \"the chance of the better winning is\", better_win_percentage)\n",
    "    better_roll_list.append(better_win_percentage)\n",
    "    \n",
    "\n",
    "#print(\"Total games played:\", host + better)\n",
    "\n",
    "#print(\"Better stop list\", better_stop_list)\n",
    "#pyl.plot(better_stop_range, better_stop_list)\n",
    "#pyl.ylabel(\"Win percentage\")\n",
    "#pyl.xlabel(\"Better stop number\")\n",
    "#pyl.title(\"Better win percentage vs. Better stop number\")"
   ]
  },
  {
   "cell_type": "code",
   "execution_count": 108,
   "metadata": {},
   "outputs": [
    {
     "name": "stdout",
     "output_type": "stream",
     "text": [
      "99\n",
      "99\n"
     ]
    },
    {
     "data": {
      "text/plain": [
       "<matplotlib.text.Text at 0x1069c5710>"
      ]
     },
     "execution_count": 108,
     "metadata": {},
     "output_type": "execute_result"
    },
    {
     "data": {
      "image/png": "[encoded data removed]",
      "text/plain": [
       "<matplotlib.figure.Figure at 0x10723b5c0>"
      ]
     },
     "metadata": {},
     "output_type": "display_data"
    }
   ],
   "source": [
    "print(len(better_roll_range))\n",
    "print(len(better_roll_list))\n",
    "pyl.plot(better_roll_range, better_roll_list)\n",
    "pyl.ylabel(\"Win percentage\")\n",
    "pyl.xlabel(\"Better roll\")\n",
    "pyl.title(\"Better win percentage vs. Better roll\")\n",
    "#best_better_win_perc = max(better_stop_list)\n",
    "#print(\"Max better win percentage is \", best_better_win_perc)\n",
    "#index_of_best_better_win_perc = better_stop_list.index(best_better_win_perc)\n",
    "#print(\"For the better to play optimally, they should stop at \", index_of_best_better_win_perc)\n",
    "\n",
    "#print(type(better_stop_range))\n",
    "#print(\"Position\", better_stop_range)"
   ]
  },
  {
   "cell_type": "code",
   "execution_count": null,
   "metadata": {},
   "outputs": [],
   "source": []
  }
 ],
 "metadata": {
  "kernelspec": {
   "display_name": "Python 3",
   "language": "python",
   "name": "python3"
  },
  "language_info": {
   "codemirror_mode": {
    "name": "ipython",
    "version": 3
   },
   "file_extension": ".py",
   "mimetype": "text/x-python",
   "name": "python",
   "nbconvert_exporter": "python",
   "pygments_lexer": "ipython3",
   "version": "3.6.3"
  }
 },
 "nbformat": 4,
 "nbformat_minor": 2
}
