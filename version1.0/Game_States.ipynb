{
 "cells": [
  {
   "cell_type": "markdown",
   "metadata": {},
   "source": [
    "# Game states "
   ]
  },
  {
   "cell_type": "markdown",
   "metadata": {},
   "source": [
    "## Basic Rules \n",
    "\n",
    "- There are two players, one with six white tokens and the other six with black tokens \n",
    "- All white tokens start on the beginning tile, $W0$, and black tokens start on the beginning tile, $B0$\n",
    "- In order to traverses the board, each player takes turns rolling a biased dice {0,...,4}\n",
    "- The first player with all six of their tokens in $W7$ for white and $B7$ for black wins the game"
   ]
  },
  {
   "cell_type": "markdown",
   "metadata": {},
   "source": [
    "## Matrix representation of board\n",
    "\n",
    "Let $A$ be a matrix = \n",
    "$$\n",
    "\\begin{bmatrix}\n",
    "    W4 & W3 & W2 & W1 & W0 & W7 & W6 & W5\\\\\n",
    "    N1 & N2 & N3 & N4 & N5 & N6 & N7 & N8\\\\\n",
    "    B4 & B3 & B2 & B1 & B0 & B7 & B6 & B5\\\\\n",
    "\\end{bmatrix}\n",
    "$$\n",
    "\n",
    "where \n",
    "- $Wn$ are white only tiles\n",
    "- $Bn$ are black only tiles \n",
    "- $Nn$ are neutral tiles. \n",
    "- $B0$ and $W0$ are the beginning tiles and can hold up to 6 of their respective colors; $B7$ and $W7$ are the end tiles and can hold up to 6 of their respective colors. "
   ]
  },
  {
   "cell_type": "markdown",
   "metadata": {},
   "source": [
    "## Traversing the board \n",
    "\n",
    "$$\n",
    "\\begin{bmatrix}\n",
    "    W4 & \\leftarrow & W3 & \\leftarrow & W2 & \\leftarrow & W1 & \\leftarrow & W0 & & W7 & \\leftarrow & W6 & \\leftarrow & W5\\\\\n",
    "    \\downarrow & & & & & & & & & & & & & & \\uparrow \\\\ \n",
    "    N1 & \\rightarrow & N2 & \\rightarrow & N3 & \\rightarrow & N4 & \\rightarrow & N5 & \\rightarrow & N6 & \\rightarrow &N7 & \\rightarrow & N8\\\\\n",
    "    \\uparrow & & & & & & & & & & & & & & \\downarrow \\\\ \n",
    "    B4 & \\leftarrow & B3 & \\leftarrow & B2 & \\leftarrow & B1 & \\leftarrow & B0 & & B7 & \\leftarrow& B6 & \\leftarrow & B5\\\\\n",
    "\\end{bmatrix}\n",
    "$$"
   ]
  },
  {
   "cell_type": "markdown",
   "metadata": {},
   "source": [
    "## Representing a game state \n",
    "\n",
    "- (white, black) \n",
    "- Ex: (1,0) = a white piece occupies this tile \n",
    "- Ex: (0,5) = 5 black pieces occupy this tile \n",
    "\n",
    "### Initial game state\n",
    "\n",
    "$$\n",
    "\\begin{bmatrix}\n",
    "    (0,0) & (0,0) & (0,0) & (0,0) & (6,0) & (0,0) & (0,0) & (0,0)\\\\\n",
    "    (0,0) & (0,0) & (0,0) & (0,0) & (0,0) & (0,0) & (0,0) & (0,0)\\\\\n",
    "    (0,0) & (0,0) & (0,0) & (0,0) & (0,6) & (0,0) & (0,0) & (0,0)\\\\\n",
    "\\end{bmatrix}\n",
    "$$\n"
   ]
  },
  {
   "cell_type": "markdown",
   "metadata": {},
   "source": [
    "## Outcome spaces \n",
    "\n",
    "- $A_{15} = \\left\\{(0,0), (1,0), (2,0), (3,0), (4,0), (5,0), (6,0)\\right\\}$ \n",
    "- $A_{16} = \\left\\{(0,0), (1,0), (2,0), (3,0), (4,0), (5,0), (6,0)\\right\\}$ \n",
    "- $A_{35} = \\left\\{(0,0), (0,1), (0,2), (0,3), (0,4), (0,5), (0,6)\\right\\}$ \n",
    "- $A_{36} = \\left\\{(0,0), (0,1), (0,2), (0,3), (0,4), (0,5), (0,6)\\right\\}$ \n",
    "- $A_{11}, A_{12}, A_{13}, A_{14}, A_{17}, A_{18} = \\left\\{(0,0), (1,0)\\right\\}$\n",
    "- $A_{31}, A_{32}, A_{33}, A_{34}, A_{37}, A_{38} = \\left\\{(0,0), (0,1)\\right\\}$\n",
    "- $A_{21}, A_{22}, ... A_{28} = \\left\\{(0,0), (1,0), (0,1)\\right\\}$"
   ]
  },
  {
   "cell_type": "markdown",
   "metadata": {},
   "source": [
    "## Matrix B\n",
    "\n",
    "Let B = \n",
    "\n",
    "$$\n",
    "\\begin{bmatrix}\n",
    "    A_{15} & A_{16}\\\\\n",
    "    A_{35} & A_{36}\\\\\n",
    "\\end{bmatrix}\n",
    "$$"
   ]
  },
  {
   "cell_type": "markdown",
   "metadata": {},
   "source": [
    "## Calculating the number of possible game states"
   ]
  },
  {
   "cell_type": "markdown",
   "metadata": {},
   "source": [
    "### sum(B) = 12\n",
    "\n",
    "#### rowSum(B) = $\\begin{bmatrix} 6\\\\ 6\\\\ \\end{bmatrix}$\n",
    "\n",
    "There are "
   ]
  },
  {
   "cell_type": "markdown",
   "metadata": {},
   "source": []
  },
  {
   "cell_type": "code",
   "execution_count": null,
   "metadata": {},
   "outputs": [],
   "source": []
  },
  {
   "cell_type": "markdown",
   "metadata": {},
   "source": [
    "|sum(B)|               rowSum(B)               | gamestates | \n",
    "|------|---------------------------------------|------------|\n",
    "|  12  |$\\begin{bmatrix} 6\\\\ 6\\\\ \\end{bmatrix}$|     49     | \n",
    "|  11  |$\\begin{bmatrix} 6\\\\ 5\\\\ \\end{bmatrix}$|    588     | \n",
    "|  11  |$\\begin{bmatrix} 5\\\\ 6\\\\ \\end{bmatrix}$|    588     | \n",
    "|  10  |$\\begin{bmatrix} 5\\\\ 5\\\\ \\end{bmatrix}$|    6768    | \n",
    "|  10  |$\\begin{bmatrix} 6\\\\ 4\\\\ \\end{bmatrix}$|    3185    | \n",
    "|  10  |$\\begin{bmatrix} 4\\\\ 6\\\\ \\end{bmatrix}$|    3185    | \n",
    "|   9  |$\\begin{bmatrix} 6\\\\ 3\\\\ \\end{bmatrix}$|    10192   | \n",
    "|   9  |$\\begin{bmatrix} 3\\\\ 6\\\\ \\end{bmatrix}$|    10192   | \n",
    "|   9  |$\\begin{bmatrix} 5\\\\ 4\\\\ \\end{bmatrix}$|    35100   | \n",
    "|   9  |$\\begin{bmatrix} 4\\\\ 5\\\\ \\end{bmatrix}$|    35100   | \n",
    "|   8  |$\\begin{bmatrix} 4\\\\ 4\\\\ \\end{bmatrix}$|    173925  | \n",
    "|   8  |$\\begin{bmatrix} 6\\\\ 2\\\\ \\end{bmatrix}$|    21021   | \n",
    "|   8  |$\\begin{bmatrix} 2\\\\ 6\\\\ \\end{bmatrix}$|    21021   | \n",
    "|   8  |$\\begin{bmatrix} 5\\\\ 3\\\\ \\end{bmatrix}$|    107328  | \n",
    "|   8  |$\\begin{bmatrix} 3\\\\ 5\\\\ \\end{bmatrix}$|    107328  | \n",
    "|   7  |$\\begin{bmatrix} 6\\\\ 1\\\\ \\end{bmatrix}$|    28028   | \n",
    "|   7  |$\\begin{bmatrix} 1\\\\ 6\\\\ \\end{bmatrix}$|    28028   | \n",
    "|   7  |$\\begin{bmatrix} 5\\\\ 2\\\\ \\end{bmatrix}$|    211068  | \n",
    "|   7  |$\\begin{bmatrix} 2\\\\ 5\\\\ \\end{bmatrix}$|    211068  | \n",
    "|   7  |$\\begin{bmatrix} 4\\\\ 3\\\\ \\end{bmatrix}$|    506960  | \n",
    "|   7  |$\\begin{bmatrix} 3\\\\ 4\\\\ \\end{bmatrix}$|    506960  | \n",
    "|   6  |$\\begin{bmatrix} 3\\\\ 3\\\\ \\end{bmatrix}$|    1404800 |\n",
    "|   6  |$\\begin{bmatrix} 6\\\\ 0\\\\ \\end{bmatrix}$|    21021   | \n",
    "|   6  |$\\begin{bmatrix} 0\\\\ 6\\\\ \\end{bmatrix}$|    21021   | \n",
    "|   6  |$\\begin{bmatrix} 5\\\\ 1\\\\ \\end{bmatrix}$|    267696  | \n",
    "|   6  |$\\begin{bmatrix} 1\\\\ 5\\\\ \\end{bmatrix}$|    267696  | \n",
    "|   6  |$\\begin{bmatrix} 4\\\\ 2\\\\ \\end{bmatrix}$|    947925  | \n",
    "|   6  |$\\begin{bmatrix} 2\\\\ 4\\\\ \\end{bmatrix}$|    947925  |  \n",
    "|   5  |$\\begin{bmatrix} 5\\\\ 0\\\\ \\end{bmatrix}$|    190476  |\n",
    "|   5  |$\\begin{bmatrix} 0\\\\ 5\\\\ \\end{bmatrix}$|    190476  |\n",
    "|   5  |$\\begin{bmatrix} 4\\\\ 1\\\\ \\end{bmatrix}$|    1139820 | \n",
    "|   5  |$\\begin{bmatrix} 1\\\\ 4\\\\ \\end{bmatrix}$|    1139820 | \n",
    "|   5  |$\\begin{bmatrix} 3\\\\ 2\\\\ \\end{bmatrix}$|    2489520 | \n",
    "|   5  |$\\begin{bmatrix} 2\\\\ 3\\\\ \\end{bmatrix}$|    2489520 | \n",
    "|   4  |$\\begin{bmatrix} 2\\\\ 2\\\\ \\end{bmatrix}$|    4166055 | \n",
    "|   4  |$\\begin{bmatrix} 4\\\\ 0\\\\ \\end{bmatrix}$|    766425  | \n",
    "|   4  |$\\begin{bmatrix} 0\\\\ 4\\\\ \\end{bmatrix}$|    766425  |  \n",
    "|   4  |$\\begin{bmatrix} 3\\\\ 1\\\\ \\end{bmatrix}$|    2827264 | \n",
    "|   4  |$\\begin{bmatrix} 1\\\\ 3\\\\ \\end{bmatrix}$|    2827264 |  \n",
    "|   3  |$\\begin{bmatrix} 3\\\\ 0\\\\ \\end{bmatrix}$|    1788336 | \n",
    "|   3  |$\\begin{bmatrix} 0\\\\ 3\\\\ \\end{bmatrix}$|    1788336 | \n",
    "|   3  |$\\begin{bmatrix} 2\\\\ 1\\\\ \\end{bmatrix}$|    4448772 |  \n",
    "|   3  |$\\begin{bmatrix} 1\\\\ 2\\\\ \\end{bmatrix}$|    4448772 | \n",
    "|   2  |$\\begin{bmatrix} 2\\\\ 0\\\\ \\end{bmatrix}$|    2632851 | \n",
    "|   2  |$\\begin{bmatrix} 0\\\\ 2\\\\ \\end{bmatrix}$|    2632851 | \n",
    "|   2  |$\\begin{bmatrix} 1\\\\ 1\\\\ \\end{bmatrix}$|    4443792 |  \n",
    "|   1  |$\\begin{bmatrix} 1\\\\ 0\\\\ \\end{bmatrix}$|    2444724 | \n",
    "|   1  |$\\begin{bmatrix} 0\\\\ 1\\\\ \\end{bmatrix}$|    2444724 | \n",
    "|   0  |$\\begin{bmatrix} 0\\\\ 0\\\\ \\end{bmatrix}$|    1240399 | "
   ]
  },
  {
   "cell_type": "code",
   "execution_count": 162,
   "metadata": {},
   "outputs": [],
   "source": [
    "sum12_list = [49]\n",
    "sum11_list = [588, 588]\n",
    "sum10_list = [3185, 3185, 6768] \n",
    "sum9_list = [35100,35100, 10192, 10192] \n",
    "sum8_list = [107328, 107328, 21021, 21021, 173925]\n",
    "sum7_list = [506960, 506960 ,211068, 211068,28028, 28028 ] \n",
    "sum6_list = [947925, 947925, 267696, 267696, 21021, 21021, 1404800] \n",
    "sum5_list = [2489520, 2489520 ,1139820, 1139820, 190476, 190476]\n",
    "sum4_list = [2827264, 2827264,766425, 766425, 4166055 ]\n",
    "sum3_list = [4448772, 4448772, 1788336, 1788336]\n",
    "sum2_list = [4443792,2632851, 2632851 ] \n",
    "sum1_list = [2444724, 2444724] \n",
    "sum0_list = [1240399]\n",
    "\n",
    "sum12 = sum(sum12_list)\n",
    "sum11 = sum(sum11_list)\n",
    "sum10 = sum(sum10_list)\n",
    "sum9 = sum(sum9_list)\n",
    "sum8 = sum(sum8_list)\n",
    "sum7 = sum(sum7_list)\n",
    "sum6 = sum(sum6_list)\n",
    "sum5 = sum(sum5_list)\n",
    "sum4 = sum(sum4_list)\n",
    "sum3 = sum(sum3_list)\n",
    "sum2 = sum(sum2_list)\n",
    "sum1 = sum(sum1_list)\n",
    "sum0 = sum(sum0_list)\n",
    "\n",
    "\n",
    "sums = [sum0, sum1, sum2, sum3, sum4, sum5, sum6, sum7, sum8, sum9, sum10, sum11, sum12]\n",
    "sum_range = range(0, len(sums))"
   ]
  },
  {
   "cell_type": "code",
   "execution_count": 165,
   "metadata": {},
   "outputs": [],
   "source": [
    "import numpy as np \n",
    "import pylab as py \n",
    "%matplotlib inline"
   ]
  },
  {
   "cell_type": "code",
   "execution_count": 174,
   "metadata": {},
   "outputs": [
    {
     "name": "stdout",
     "output_type": "stream",
     "text": [
      "The total number of possible game states is 53212388\n"
     ]
    },
    {
     "data": {
      "image/png": "[encoded data removed]",
      "text/plain": [
       "<matplotlib.figure.Figure at 0x150fc89b00>"
      ]
     },
     "metadata": {},
     "output_type": "display_data"
    }
   ],
   "source": [
    "py.plot(sum_range, sums)\n",
    "py.xlabel(\"Sum(B)\")\n",
    "py.ylabel(\"Game states\")\n",
    "py.title(\"Game states vs. sum(B)\")\n",
    "print(\"The total number of possible game states is\", sum(sums))"
   ]
  },
  {
   "cell_type": "markdown",
   "metadata": {},
   "source": [
    "#### rowSum(B) = $\\begin{bmatrix} 6\\\\ 3\\\\ \\end{bmatrix}$"
   ]
  },
  {
   "cell_type": "code",
   "execution_count": 36,
   "metadata": {},
   "outputs": [
    {
     "name": "stdout",
     "output_type": "stream",
     "text": [
      "1\n",
      "This is test_sum 1\n",
      "2\n",
      "This is test_sum 3\n",
      "3\n",
      "This is test_sum 6\n",
      "4\n",
      "This is test_sum 10\n",
      "5\n",
      "This is test_sum 15\n",
      "6\n",
      "This is test_sum 21\n",
      "7\n",
      "This is test_sum 28\n",
      "8\n",
      "This is test_sum 36\n",
      "9\n",
      "This is test_sum 45\n",
      "10\n",
      "This is test_sum 55\n",
      "11\n",
      "This is test_sum 66\n",
      "12\n",
      "This is test_sum 78\n",
      "This is end_sum =  364\n"
     ]
    }
   ],
   "source": [
    "in_play_tiles = 14                # number of legal, in-play tiles available \n",
    "tokens = 3                        # number of one type of token in play \n",
    "n = in_play_tiles - (tokens - 1)  # number of possible tiles \n",
    "test_sum = 0 \n",
    "end_sum = 0 \n",
    "for i in range(1, n+1):\n",
    "    print(i)\n",
    "    test_sum = 0 \n",
    "    for j in range(1, i+1):\n",
    "        test_sum += j\n",
    "    print(\"This is test_sum\", test_sum)\n",
    "    end_sum += test_sum\n",
    "print(\"This is end_sum = \", end_sum)"
   ]
  },
  {
   "cell_type": "code",
   "execution_count": 37,
   "metadata": {},
   "outputs": [
    {
     "name": "stdout",
     "output_type": "stream",
     "text": [
      "10192\n"
     ]
    }
   ],
   "source": [
    "# rowSum(B) = [6,4]\n",
    "possible_B_configs = 28 \n",
    "combinations_6_4 = possible_B_configs * end_sum \n",
    "print(combinations_6_4)"
   ]
  },
  {
   "cell_type": "markdown",
   "metadata": {},
   "source": [
    "We know have a formula to compute the number of combinations if there is only one color in play. These states are improbable. "
   ]
  },
  {
   "cell_type": "markdown",
   "metadata": {},
   "source": [
    "#### rowSum(B) = $\\begin{bmatrix} 6\\\\ 2\\\\ \\end{bmatrix}$"
   ]
  },
  {
   "cell_type": "code",
   "execution_count": 40,
   "metadata": {},
   "outputs": [],
   "source": [
    "tokens = 4 \n",
    "n = in_play_tiles - (tokens - 1)     # number of possible tiles \n",
    "sum1 = 0 \n",
    "sum2 = 0 \n",
    "end_sum = 0 \n",
    "for i in range(1, n+1):\n",
    "    #print(i)\n",
    "    for j in range(1, i+1):\n",
    "        sum1 += j \n",
    "        for k in range(1, j+1):\n",
    "            sum2 += k\n",
    "    \n",
    "            "
   ]
  },
  {
   "cell_type": "markdown",
   "metadata": {},
   "source": [
    "After a little bit of thought, i realized that I can just use combinations for the ones in which there all black or all white pieces.  e.g \n",
    "rowSum(B) = $\\begin{bmatrix} 6\\\\ 2\\\\ \\end{bmatrix}$ or rowSum(B) = $\\begin{bmatrix} 3\\\\ 6\\\\ \\end{bmatrix}$, etc. "
   ]
  },
  {
   "cell_type": "code",
   "execution_count": 57,
   "metadata": {},
   "outputs": [
    {
     "name": "stdout",
     "output_type": "stream",
     "text": [
      "21021.0\n"
     ]
    }
   ],
   "source": [
    "from scipy import special\n",
    "possible_B_configs = 21 \n",
    "choose4_14 = special.comb(14, 4)\n",
    "combinations6_2 = possible_B_configs * choose4_14\n",
    "print(combinations6_2)"
   ]
  },
  {
   "cell_type": "markdown",
   "metadata": {},
   "source": [
    "#### rowSum(B) = $\\begin{bmatrix} 6\\\\ 1\\\\ \\end{bmatrix}$"
   ]
  },
  {
   "cell_type": "code",
   "execution_count": 59,
   "metadata": {},
   "outputs": [
    {
     "name": "stdout",
     "output_type": "stream",
     "text": [
      "28028.0\n"
     ]
    }
   ],
   "source": [
    "possible_B_configs = 7 * 2 \n",
    "choose5_14 = special.comb(14, 5)\n",
    "combinations6_1 = possible_B_configs * choose5_14\n",
    "print(combinations6_1)"
   ]
  },
  {
   "cell_type": "markdown",
   "metadata": {},
   "source": [
    "#### rowSum(B) = $\\begin{bmatrix} 6\\\\ 0\\\\ \\end{bmatrix}$"
   ]
  },
  {
   "cell_type": "code",
   "execution_count": 61,
   "metadata": {},
   "outputs": [
    {
     "name": "stdout",
     "output_type": "stream",
     "text": [
      "3003.0\n",
      "21021.0\n"
     ]
    }
   ],
   "source": [
    "possible_B_configs = 7 \n",
    "choose6_14 = special.comb(14, 6)\n",
    "print(choose6_14)\n",
    "combinations6_0 = possible_B_configs*choose6_14\n",
    "print(combinations6_0)"
   ]
  },
  {
   "cell_type": "markdown",
   "metadata": {},
   "source": [
    "#### rowSum(B) = $\\begin{bmatrix} 5\\\\ 4\\\\ \\end{bmatrix}$"
   ]
  },
  {
   "cell_type": "markdown",
   "metadata": {},
   "source": [
    "- 1 white in play \n",
    "- 2 blacks in play "
   ]
  },
  {
   "cell_type": "code",
   "execution_count": 67,
   "metadata": {},
   "outputs": [
    {
     "name": "stdout",
     "output_type": "stream",
     "text": [
      "546.0\n",
      "624.0\n",
      "35100.0\n"
     ]
    }
   ],
   "source": [
    "possible_B_configs = 6 * 5\n",
    "safe_zone_part = special.comb(6, 1) * special.comb(14, 2)\n",
    "print(safe_zone_part)\n",
    "mixed_zone_part = special.comb(8, 1) * special.comb(13, 2)\n",
    "print(mixed_zone_part)\n",
    "configs_per_B = safe_zone_part + mixed_zone_part\n",
    "total_configs = possible_B_configs * configs_per_B\n",
    "print(total_configs)"
   ]
  },
  {
   "cell_type": "markdown",
   "metadata": {},
   "source": [
    "#### rowSum(B) = $\\begin{bmatrix} 5\\\\ 3\\\\ \\end{bmatrix}$"
   ]
  },
  {
   "cell_type": "code",
   "execution_count": 71,
   "metadata": {},
   "outputs": [
    {
     "name": "stdout",
     "output_type": "stream",
     "text": [
      "2184.0\n",
      "2288.0\n",
      "4472.0\n",
      "107328.0\n"
     ]
    }
   ],
   "source": [
    "possible_B_configs = 6 * 4  #24 \n",
    "safe_zone_part = special.comb(6, 1) * special.comb(14, 3)\n",
    "print(safe_zone_part)\n",
    "mixed_zone_part = special.comb(8, 1) * special.comb(13, 3)\n",
    "print(mixed_zone_part)\n",
    "configs_per_B = safe_zone_part + mixed_zone_part \n",
    "print(configs_per_B)\n",
    "total_configs = possible_B_configs * configs_per_B\n",
    "print(total_configs)"
   ]
  },
  {
   "cell_type": "markdown",
   "metadata": {},
   "source": [
    "#### rowSum(B) = $\\begin{bmatrix} 5\\\\ 2\\\\ \\end{bmatrix}$"
   ]
  },
  {
   "cell_type": "code",
   "execution_count": 76,
   "metadata": {},
   "outputs": [
    {
     "name": "stdout",
     "output_type": "stream",
     "text": [
      "6006.0\n",
      "5720.0\n",
      "11726.0\n",
      "211068.0\n"
     ]
    }
   ],
   "source": [
    "possible_B_configs = 6 *3 #21 \n",
    "safe_zone_part = special.comb(6, 1) * special.comb(14, 4)\n",
    "print(safe_zone_part)\n",
    "mixed_zone_part = special.comb(8, 1) * special.comb(13, 4) \n",
    "print(mixed_zone_part)\n",
    "configs_per_B = safe_zone_part + mixed_zone_part \n",
    "print(configs_per_B)\n",
    "total_configs = configs_per_B  * possible_B_configs\n",
    "print(total_configs)"
   ]
  },
  {
   "cell_type": "markdown",
   "metadata": {},
   "source": [
    "#### rowSum(B) = $\\begin{bmatrix} 5\\\\ 1\\\\ \\end{bmatrix}$"
   ]
  },
  {
   "cell_type": "code",
   "execution_count": 83,
   "metadata": {},
   "outputs": [
    {
     "name": "stdout",
     "output_type": "stream",
     "text": [
      "12\n",
      "12012.0\n",
      "10296.0\n",
      "22308.0\n",
      "267696.0\n"
     ]
    }
   ],
   "source": [
    "possible_B_configs = 6 * 2 #12 \n",
    "print(possible_B_configs)\n",
    "safe_zone_part = special.comb(6,1) * special.comb(14, 5)\n",
    "print(safe_zone_part)\n",
    "mixed_zone_part = special.comb(8,1) * special.comb(13, 5)\n",
    "print(mixed_zone_part)\n",
    "configs_per_B = safe_zone_part + mixed_zone_part \n",
    "print(configs_per_B)\n",
    "total_configs = configs_per_B * possible_B_configs\n",
    "print(total_configs)"
   ]
  },
  {
   "cell_type": "markdown",
   "metadata": {},
   "source": [
    "#### rowSum(B) = $\\begin{bmatrix} 5\\\\ 0\\\\ \\end{bmatrix}$"
   ]
  },
  {
   "cell_type": "code",
   "execution_count": 89,
   "metadata": {},
   "outputs": [
    {
     "name": "stdout",
     "output_type": "stream",
     "text": [
      "6\n",
      "18018.0\n",
      "13728.0\n",
      "31746.0\n",
      "190476.0\n"
     ]
    }
   ],
   "source": [
    "possible_B_configs = 6 * 1 #6 \n",
    "print(possible_B_configs)\n",
    "safe_zone_part = special.comb(6, 1) * special.comb(14, 6)\n",
    "print(safe_zone_part)\n",
    "mixed_zone_part = special.comb(8,1) * special.comb(13, 6)\n",
    "print(mixed_zone_part)\n",
    "configs_per_B = safe_zone_part + mixed_zone_part \n",
    "print(configs_per_B)\n",
    "total_configs = configs_per_B * possible_B_configs \n",
    "print(total_configs)"
   ]
  },
  {
   "cell_type": "markdown",
   "metadata": {},
   "source": [
    "#### rowSum(B) = $\\begin{bmatrix} 4\\\\ 4\\\\ \\end{bmatrix}$"
   ]
  },
  {
   "cell_type": "markdown",
   "metadata": {},
   "source": [
    "-2 whites\n",
    "-2 blacks \n",
    "\n",
    "safe/mix zone combinations \n",
    "-2 white in safe, black moves \n",
    "-1 white in safe, 1 white in mix, black moves\n",
    "-2 white in mix, black moves "
   ]
  },
  {
   "cell_type": "code",
   "execution_count": 98,
   "metadata": {},
   "outputs": [
    {
     "name": "stdout",
     "output_type": "stream",
     "text": [
      "25\n",
      "1365.0\n",
      "3744.0\n",
      "1848.0\n",
      "6957.0\n",
      "173925.0\n"
     ]
    }
   ],
   "source": [
    "possible_B_configs = 5 * 5 #25 \n",
    "print(possible_B_configs)\n",
    "safe_zone_part = special.comb(6, 2)*special.comb(14, 2) #2 white in safe, black moves \n",
    "print(safe_zone_part)\n",
    "safe_mixed_zone_part = special.comb(6,1) *special.comb(8,1) * special.comb(13, 2) # 1 white in safe, 1 in neutral, black moves \n",
    "print(safe_mixed_zone_part)\n",
    "mixed_zone_part = special.comb(8, 2) * special.comb(12, 2) # 2 white in mixed, black moves \n",
    "print(mixed_zone_part)\n",
    "configs_per_B = safe_zone_part + safe_mixed_zone_part + mixed_zone_part \n",
    "print(configs_per_B)\n",
    "total_configs = configs_per_B * possible_B_configs\n",
    "print(total_configs)"
   ]
  },
  {
   "cell_type": "markdown",
   "metadata": {},
   "source": [
    "#### rowSum(B) = $\\begin{bmatrix} 4\\\\ 3\\\\ \\end{bmatrix}$"
   ]
  },
  {
   "cell_type": "markdown",
   "metadata": {},
   "source": [
    "- 2 whites\n",
    "- 3 blacks \n",
    "\n",
    "safe/mix zones to consider \n",
    "- 2 whites in safe \n",
    "- 1 white in safe, 1 in mix \n",
    "- 0 white in safe, 2 in mix "
   ]
  },
  {
   "cell_type": "code",
   "execution_count": 105,
   "metadata": {},
   "outputs": [
    {
     "name": "stdout",
     "output_type": "stream",
     "text": [
      "20\n",
      "5460.0\n",
      "13728.0\n",
      "6160.0\n",
      "25348.0\n",
      "506960.0\n"
     ]
    }
   ],
   "source": [
    "possible_B_configs = 5 * 4 \n",
    "print(possible_B_configs)\n",
    "safe_zone_part = special.comb(6, 2) * special.comb(14, 3)\n",
    "print(safe_zone_part)\n",
    "safe_mixed_zone_part = special.comb(6, 1) * special.comb(8 , 1) * special.comb(13, 3)\n",
    "print(safe_mixed_zone_part)\n",
    "mixed_zone_part = special.comb(8,2) * special.comb(12, 3)\n",
    "print(mixed_zone_part)\n",
    "configs_per_B = safe_zone_part + safe_mixed_zone_part + mixed_zone_part \n",
    "print(configs_per_B)\n",
    "total_configs = configs_per_B * possible_B_configs \n",
    "print(total_configs)"
   ]
  },
  {
   "cell_type": "markdown",
   "metadata": {},
   "source": [
    "#### rowSum(B) = $\\begin{bmatrix} 3\\\\ 4\\\\ \\end{bmatrix}$"
   ]
  },
  {
   "cell_type": "markdown",
   "metadata": {},
   "source": [
    "- 3 whites\n",
    "- 2 blacks \n",
    "\n",
    "consider these \n",
    "- 3 whites in safe, 0 in mix, black moves \n",
    "- 2 whites in safe, 1 in mix, black moves \n",
    "- 1 white in safe, 2 in mix, black moves\n",
    "- 0 white in safe, 3 in mix, black moves "
   ]
  },
  {
   "cell_type": "code",
   "execution_count": 112,
   "metadata": {},
   "outputs": [
    {
     "name": "stdout",
     "output_type": "stream",
     "text": [
      "20\n",
      "1820.0\n",
      "9360.0\n",
      "11088.0\n",
      "3080.0\n",
      "25348.0\n"
     ]
    }
   ],
   "source": [
    "# double checking \n",
    "possible_B_configs = 4 * 5 #20 \n",
    "print(possible_B_configs)\n",
    "safe_zone_part = special.comb(6, 3) * special.comb(14, 2)\n",
    "print(safe_zone_part)\n",
    "safe_mixed_zone_part1 = special.comb(6, 2) * special.comb(8, 1) * special.comb(13, 2)\n",
    "print(safe_mixed_zone_part1)\n",
    "safe_mixed_zone_part2 = special.comb(6, 1) * special.comb(8,2) * special.comb(12,2) \n",
    "print(safe_mixed_zone_part2)\n",
    "mixed_zone_part = special.comb(8,3) * special.comb(11,2)\n",
    "print(mixed_zone_part )\n",
    "configs_per_B = safe_zone_part + safe_mixed_zone_part1 + safe_mixed_zone_part2 + mixed_zone_part \n",
    "print(configs_per_B)"
   ]
  },
  {
   "cell_type": "markdown",
   "metadata": {},
   "source": [
    "#### rowSum(B) = $\\begin{bmatrix} 3\\\\ 3\\\\ \\end{bmatrix}$"
   ]
  },
  {
   "cell_type": "markdown",
   "metadata": {},
   "source": [
    "- 3 whites \n",
    "- 3 blacks \n",
    "\n",
    "Consider \n",
    "- 3 whites in safe, 0 whites in mix, black moves \n",
    "- 2 whites in safe, 1 white in mix, black moves \n",
    "- 1 white in safe, 2 white in mix, black moves \n",
    "- 0 white in safe, 3 white in mix, black moves "
   ]
  },
  {
   "cell_type": "code",
   "execution_count": 122,
   "metadata": {},
   "outputs": [
    {
     "name": "stdout",
     "output_type": "stream",
     "text": [
      "16\n",
      "7280.0\n",
      "34320.0\n",
      "36960.0\n",
      "9240.0\n",
      "87800.0\n",
      "1404800.0\n"
     ]
    }
   ],
   "source": [
    "possible_B_configs = 4 * 4 #16 \n",
    "print(possible_B_configs)\n",
    "safe_zone_part = special.comb(6, 3) * special.comb(14, 3)\n",
    "print(safe_zone_part)\n",
    "safe_mixed_zone_part1 = special.comb(6, 2) *special.comb(8,1) * special.comb(13, 3)\n",
    "print(safe_mixed_zone_part1)\n",
    "safe_mixed_zone_part2 = special.comb(6,1) * special.comb(8,2) * special.comb(12, 3)\n",
    "print(safe_mixed_zone_part2)\n",
    "mixed_zone_part = special.comb(8, 3) * special.comb(11, 3)\n",
    "print(mixed_zone_part)\n",
    "configs_per_B = safe_zone_part + safe_mixed_zone_part1 + safe_mixed_zone_part2 + mixed_zone_part \n",
    "print(configs_per_B)\n",
    "total_configs = possible_B_configs * configs_per_B\n",
    "print(total_configs)"
   ]
  },
  {
   "cell_type": "markdown",
   "metadata": {},
   "source": [
    "#### rowSum(B) = $\\begin{bmatrix} 4\\\\ 2\\\\ \\end{bmatrix}$"
   ]
  },
  {
   "cell_type": "markdown",
   "metadata": {},
   "source": [
    "- 2 whites \n",
    "- 4 blacks \n",
    "\n",
    "Consider \n",
    "- 2 whites in safe, 0 white in mix, black moves \n",
    "- 1 white in safe, 1 white in mix, black moves \n",
    "- 0 white in safe, 2 white in mix, black moves "
   ]
  },
  {
   "cell_type": "code",
   "execution_count": 129,
   "metadata": {},
   "outputs": [
    {
     "name": "stdout",
     "output_type": "stream",
     "text": [
      "15\n",
      "15015.0\n",
      "34320.0\n",
      "13860.0\n",
      "63195.0\n",
      "947925.0\n"
     ]
    }
   ],
   "source": [
    "possible_B_configs = 5 * 3 #15 \n",
    "print(possible_B_configs )\n",
    "safe_zone_part = special.comb(6, 2) * special.comb(14, 4)\n",
    "print(safe_zone_part )\n",
    "safe_mixed_zone_part = special.comb(6,1)  *special.comb(8, 1) * special.comb(13,4)\n",
    "print(safe_mixed_zone_part)\n",
    "mixed_zone_part = special.comb(8, 2) * special.comb(12, 4) \n",
    "print(mixed_zone_part)\n",
    "configs_per_B = safe_zone_part + safe_mixed_zone_part + mixed_zone_part \n",
    "print(configs_per_B)\n",
    "total_configs = possible_B_configs * configs_per_B \n",
    "print(total_configs)"
   ]
  },
  {
   "cell_type": "markdown",
   "metadata": {},
   "source": [
    "#### rowSum(B) = $\\begin{bmatrix} 4\\\\ 1\\\\ \\end{bmatrix}$"
   ]
  },
  {
   "cell_type": "markdown",
   "metadata": {},
   "source": [
    "- 2 whites \n",
    "- 5 blacks \n",
    "\n",
    "Consider \n",
    "- 2 whites in safe, 0 in mix, blacks move \n",
    "- 1 white in safe, 1 in mix, black moves \n",
    "- 0 white in safe, 2 in mix, black moves \n"
   ]
  },
  {
   "cell_type": "code",
   "execution_count": 138,
   "metadata": {},
   "outputs": [
    {
     "name": "stdout",
     "output_type": "stream",
     "text": [
      "10\n",
      "30030.0\n",
      "61776.0\n",
      "22176.0\n",
      "113982.0\n",
      "1139820.0\n"
     ]
    }
   ],
   "source": [
    "possible_B_configs = 5 * 2 #10 \n",
    "print(possible_B_configs)\n",
    "safe_zone_part = special.comb(6,2) * special.comb(14, 5)\n",
    "print(safe_zone_part)\n",
    "safe_mixed_zone_part = special.comb(6, 1) * special.comb(8, 1) * special.comb(13, 5)\n",
    "print(safe_mixed_zone_part )\n",
    "mixed_zone_part = special.comb(8, 2) * special.comb(12, 5)\n",
    "print(mixed_zone_part )\n",
    "configs_per_B = safe_zone_part  + safe_mixed_zone_part + mixed_zone_part \n",
    "print(configs_per_B )\n",
    "total_configs = configs_per_B * possible_B_configs\n",
    "print(total_configs)"
   ]
  },
  {
   "cell_type": "markdown",
   "metadata": {},
   "source": [
    "#### rowSum(B) = $\\begin{bmatrix} 4\\\\ 0\\\\ \\end{bmatrix}$"
   ]
  },
  {
   "cell_type": "markdown",
   "metadata": {},
   "source": [
    "- 2 whites \n",
    "- 6 blacks \n",
    "\n",
    "Consider \n",
    "- 2 whites in safe, 0 in mix, blacks move \n",
    "- 1 white in safe, 1 in mix, black moves \n",
    "- 0 white in safe, 2 in mix, black moves \n"
   ]
  },
  {
   "cell_type": "code",
   "execution_count": 139,
   "metadata": {},
   "outputs": [
    {
     "name": "stdout",
     "output_type": "stream",
     "text": [
      "5\n",
      "45045.0\n",
      "82368.0\n",
      "25872.0\n",
      "153285.0\n",
      "766425.0\n"
     ]
    }
   ],
   "source": [
    "possible_B_configs = 5 * 1 #5 \n",
    "print(possible_B_configs)\n",
    "safe_zone_part = special.comb(6,2) * special.comb(14, 6)\n",
    "print(safe_zone_part)\n",
    "safe_mixed_zone_part = special.comb(6, 1) * special.comb(8, 1) * special.comb(13, 6)\n",
    "print(safe_mixed_zone_part )\n",
    "mixed_zone_part = special.comb(8, 2) * special.comb(12, 6)\n",
    "print(mixed_zone_part )\n",
    "configs_per_B = safe_zone_part  + safe_mixed_zone_part + mixed_zone_part \n",
    "print(configs_per_B )\n",
    "total_configs = configs_per_B * possible_B_configs\n",
    "print(total_configs)"
   ]
  },
  {
   "cell_type": "markdown",
   "metadata": {},
   "source": [
    "#### rowSum(B) = $\\begin{bmatrix} 3\\\\ 2\\\\ \\end{bmatrix}$"
   ]
  },
  {
   "cell_type": "markdown",
   "metadata": {},
   "source": [
    "- 3 whites \n",
    "- 4 blacks \n",
    "\n",
    "Consider \n",
    "- 3 whites in safe, 0 whites in mix, blacks move \n",
    "- 2 whites in safe, 1 white in mix, blacks move \n",
    "- 1 white in safe, 2 whites in mix, black moves \n",
    "- 0 white in safe, 3 whites in mix, black moves "
   ]
  },
  {
   "cell_type": "code",
   "execution_count": 140,
   "metadata": {},
   "outputs": [
    {
     "name": "stdout",
     "output_type": "stream",
     "text": [
      "12\n",
      "20020.0\n",
      "85800.0\n",
      "83160.0\n",
      "18480.0\n",
      "207460.0\n",
      "2489520.0\n"
     ]
    }
   ],
   "source": [
    "possible_B_configs = 4 * 3 #12\n",
    "print(possible_B_configs)\n",
    "safe_zone_part = special.comb(6,3) * special.comb(14, 4)\n",
    "print(safe_zone_part)\n",
    "safe_mixed_zone_part1 = special.comb(6, 2) * special.comb(8, 1) * special.comb(13, 4)\n",
    "print(safe_mixed_zone_part1 )\n",
    "safe_mixed_zone_part2 = special.comb(6, 1) * special.comb(8, 2) * special.comb(12, 4)\n",
    "print(safe_mixed_zone_part2 )\n",
    "mixed_zone_part = special.comb(8, 3) * special.comb(11, 4)\n",
    "print(mixed_zone_part )\n",
    "configs_per_B = safe_zone_part  + safe_mixed_zone_part1 + safe_mixed_zone_part2 + mixed_zone_part \n",
    "print(configs_per_B )\n",
    "total_configs = configs_per_B * possible_B_configs\n",
    "print(total_configs)"
   ]
  },
  {
   "cell_type": "markdown",
   "metadata": {},
   "source": [
    "#### rowSum(B) = $\\begin{bmatrix} 3\\\\ 1\\\\ \\end{bmatrix}$"
   ]
  },
  {
   "cell_type": "markdown",
   "metadata": {},
   "source": [
    "- 3 whites \n",
    "- 5 blacks \n",
    "\n",
    "Consider \n",
    "- 3 whites in safe, 0 whites in mix, blacks move \n",
    "- 2 whites in safe, 1 white in mix, blacks move \n",
    "- 1 white in safe, 2 whites in mix, black moves \n",
    "- 0 white in safe, 3 whites in mix, black moves "
   ]
  },
  {
   "cell_type": "code",
   "execution_count": 141,
   "metadata": {},
   "outputs": [
    {
     "name": "stdout",
     "output_type": "stream",
     "text": [
      "8\n",
      "40040.0\n",
      "154440.0\n",
      "133056.0\n",
      "25872.0\n",
      "353408.0\n",
      "2827264.0\n"
     ]
    }
   ],
   "source": [
    "possible_B_configs = 4 * 2 #8\n",
    "print(possible_B_configs)\n",
    "safe_zone_part = special.comb(6,3) * special.comb(14, 5)\n",
    "print(safe_zone_part)\n",
    "safe_mixed_zone_part1 = special.comb(6, 2) * special.comb(8, 1) * special.comb(13, 5)\n",
    "print(safe_mixed_zone_part1 )\n",
    "safe_mixed_zone_part2 = special.comb(6, 1) * special.comb(8, 2) * special.comb(12, 5)\n",
    "print(safe_mixed_zone_part2 )\n",
    "mixed_zone_part = special.comb(8, 3) * special.comb(11, 5)\n",
    "print(mixed_zone_part )\n",
    "configs_per_B = safe_zone_part  + safe_mixed_zone_part1 + safe_mixed_zone_part2 + mixed_zone_part \n",
    "print(configs_per_B )\n",
    "total_configs = configs_per_B * possible_B_configs\n",
    "print(total_configs)"
   ]
  },
  {
   "cell_type": "markdown",
   "metadata": {},
   "source": [
    "#### rowSum(B) = $\\begin{bmatrix} 3\\\\ 0\\\\ \\end{bmatrix}$"
   ]
  },
  {
   "cell_type": "markdown",
   "metadata": {},
   "source": [
    "- 3 whites \n",
    "- 6 blacks \n",
    "\n",
    "Consider \n",
    "- 3 whites in safe, 0 whites in mix, blacks move \n",
    "- 2 whites in safe, 1 white in mix, blacks move \n",
    "- 1 white in safe, 2 whites in mix, black moves \n",
    "- 0 white in safe, 3 whites in mix, black moves "
   ]
  },
  {
   "cell_type": "code",
   "execution_count": 142,
   "metadata": {},
   "outputs": [
    {
     "name": "stdout",
     "output_type": "stream",
     "text": [
      "4\n",
      "60060.0\n",
      "205920.0\n",
      "155232.0\n",
      "25872.0\n",
      "447084.0\n",
      "1788336.0\n"
     ]
    }
   ],
   "source": [
    "possible_B_configs = 4 * 1 #4\n",
    "print(possible_B_configs)\n",
    "safe_zone_part = special.comb(6,3) * special.comb(14, 6)\n",
    "print(safe_zone_part)\n",
    "safe_mixed_zone_part1 = special.comb(6, 2) * special.comb(8, 1) * special.comb(13, 6)\n",
    "print(safe_mixed_zone_part1 )\n",
    "safe_mixed_zone_part2 = special.comb(6, 1) * special.comb(8, 2) * special.comb(12, 6)\n",
    "print(safe_mixed_zone_part2 )\n",
    "mixed_zone_part = special.comb(8, 3) * special.comb(11, 6)\n",
    "print(mixed_zone_part )\n",
    "configs_per_B = safe_zone_part  + safe_mixed_zone_part1 + safe_mixed_zone_part2 + mixed_zone_part \n",
    "print(configs_per_B )\n",
    "total_configs = configs_per_B * possible_B_configs\n",
    "print(total_configs)"
   ]
  },
  {
   "cell_type": "markdown",
   "metadata": {},
   "source": [
    "#### rowSum(B) = $\\begin{bmatrix} 2\\\\ 2\\\\ \\end{bmatrix}$"
   ]
  },
  {
   "cell_type": "markdown",
   "metadata": {},
   "source": [
    "- 4 whites \n",
    "- 4 blacks \n",
    "\n",
    "Consider \n",
    "\n",
    "- 4 whites in safe, 0 whites in mix, blacks move \n",
    "- 3 whites in safe, 1 white in mix, blacks move\n",
    "- 2 whites in safe, 2 white in mix, blacks move \n",
    "- 1 whites in safe, 3 white in mix, blacks move \n",
    "- 0 whites in safe, 4 whites in mix, blacks move "
   ]
  },
  {
   "cell_type": "code",
   "execution_count": 145,
   "metadata": {},
   "outputs": [
    {
     "name": "stdout",
     "output_type": "stream",
     "text": [
      "9\n",
      "15015.0\n",
      "114400.0\n",
      "207900.0\n",
      "110880.0\n",
      "14700.0\n",
      "462895.0\n",
      "4166055.0\n"
     ]
    }
   ],
   "source": [
    "possible_B_configs = 3 * 3 #9\n",
    "print(possible_B_configs)\n",
    "safe_zone_part = special.comb(6,4) * special.comb(14, 4)\n",
    "print(safe_zone_part)\n",
    "safe_mixed_zone_part1 = special.comb(6, 3) * special.comb(8, 1) * special.comb(13, 4)\n",
    "print(safe_mixed_zone_part1 )\n",
    "safe_mixed_zone_part2 = special.comb(6, 2) * special.comb(8, 2) * special.comb(12, 4)\n",
    "print(safe_mixed_zone_part2 )\n",
    "safe_mixed_zone_part3 = special.comb(6, 1) * special.comb(8, 3) * special.comb(11, 4)\n",
    "print(safe_mixed_zone_part3 )\n",
    "mixed_zone_part = special.comb(8, 4) * special.comb(10, 4)\n",
    "print(mixed_zone_part )\n",
    "configs_per_B = safe_zone_part  + safe_mixed_zone_part1 + safe_mixed_zone_part2 + safe_mixed_zone_part3 + mixed_zone_part \n",
    "print(configs_per_B )\n",
    "total_configs = configs_per_B * possible_B_configs\n",
    "print(total_configs)"
   ]
  },
  {
   "cell_type": "markdown",
   "metadata": {},
   "source": [
    "#### rowSum(B) = $\\begin{bmatrix} 2\\\\ 1\\\\ \\end{bmatrix}$"
   ]
  },
  {
   "cell_type": "markdown",
   "metadata": {},
   "source": [
    "- 4 whites \n",
    "- 5 blacks \n",
    "\n",
    "Consider \n",
    "\n",
    "- 4 whites in safe, 0 whites in mix, blacks move \n",
    "- 3 whites in safe, 1 white in mix, blacks move\n",
    "- 2 whites in safe, 2 white in mix, blacks move \n",
    "- 1 whites in safe, 3 white in mix, blacks move \n",
    "- 0 whites in safe, 4 whites in mix, blacks move "
   ]
  },
  {
   "cell_type": "code",
   "execution_count": 146,
   "metadata": {},
   "outputs": [
    {
     "name": "stdout",
     "output_type": "stream",
     "text": [
      "6\n",
      "30030.0\n",
      "205920.0\n",
      "332640.0\n",
      "155232.0\n",
      "17640.0\n",
      "741462.0\n",
      "4448772.0\n"
     ]
    }
   ],
   "source": [
    "possible_B_configs = 3 * 2 #6\n",
    "print(possible_B_configs)\n",
    "safe_zone_part = special.comb(6,4) * special.comb(14, 5)\n",
    "print(safe_zone_part)\n",
    "safe_mixed_zone_part1 = special.comb(6, 3) * special.comb(8, 1) * special.comb(13, 5)\n",
    "print(safe_mixed_zone_part1 )\n",
    "safe_mixed_zone_part2 = special.comb(6, 2) * special.comb(8, 2) * special.comb(12, 5)\n",
    "print(safe_mixed_zone_part2 )\n",
    "safe_mixed_zone_part3 = special.comb(6, 1) * special.comb(8, 3) * special.comb(11, 5)\n",
    "print(safe_mixed_zone_part3 )\n",
    "mixed_zone_part = special.comb(8, 4) * special.comb(10, 5)\n",
    "print(mixed_zone_part )\n",
    "configs_per_B = safe_zone_part  + safe_mixed_zone_part1 + safe_mixed_zone_part2 + safe_mixed_zone_part3 + mixed_zone_part \n",
    "print(configs_per_B )\n",
    "total_configs = configs_per_B * possible_B_configs\n",
    "print(total_configs)"
   ]
  },
  {
   "cell_type": "markdown",
   "metadata": {},
   "source": [
    "#### rowSum(B) = $\\begin{bmatrix} 2\\\\ 0\\\\ \\end{bmatrix}$"
   ]
  },
  {
   "cell_type": "markdown",
   "metadata": {},
   "source": [
    "- 4 whites \n",
    "- 6 blacks \n",
    "\n",
    "Consider \n",
    "\n",
    "- 4 whites in safe, 0 whites in mix, blacks move \n",
    "- 3 whites in safe, 1 white in mix, blacks move\n",
    "- 2 whites in safe, 2 white in mix, blacks move \n",
    "- 1 whites in safe, 3 white in mix, blacks move \n",
    "- 0 whites in safe, 4 whites in mix, blacks move "
   ]
  },
  {
   "cell_type": "code",
   "execution_count": 147,
   "metadata": {},
   "outputs": [
    {
     "name": "stdout",
     "output_type": "stream",
     "text": [
      "3\n",
      "45045.0\n",
      "274560.0\n",
      "388080.0\n",
      "155232.0\n",
      "14700.0\n",
      "877617.0\n",
      "2632851.0\n"
     ]
    }
   ],
   "source": [
    "possible_B_configs = 3 * 1 #3\n",
    "print(possible_B_configs)\n",
    "safe_zone_part = special.comb(6,4) * special.comb(14, 6)\n",
    "print(safe_zone_part)\n",
    "safe_mixed_zone_part1 = special.comb(6, 3) * special.comb(8, 1) * special.comb(13, 6)\n",
    "print(safe_mixed_zone_part1 )\n",
    "safe_mixed_zone_part2 = special.comb(6, 2) * special.comb(8, 2) * special.comb(12, 6)\n",
    "print(safe_mixed_zone_part2 )\n",
    "safe_mixed_zone_part3 = special.comb(6, 1) * special.comb(8, 3) * special.comb(11, 6)\n",
    "print(safe_mixed_zone_part3 )\n",
    "mixed_zone_part = special.comb(8, 4) * special.comb(10, 6)\n",
    "print(mixed_zone_part )\n",
    "configs_per_B = safe_zone_part  + safe_mixed_zone_part1 + safe_mixed_zone_part2 + safe_mixed_zone_part3 + mixed_zone_part \n",
    "print(configs_per_B )\n",
    "total_configs = configs_per_B * possible_B_configs\n",
    "print(total_configs)"
   ]
  },
  {
   "cell_type": "markdown",
   "metadata": {},
   "source": [
    "#### rowSum(B) = $\\begin{bmatrix} 1\\\\ 1\\\\ \\end{bmatrix}$"
   ]
  },
  {
   "cell_type": "markdown",
   "metadata": {},
   "source": [
    "- 5 whites \n",
    "- 5 blacks \n",
    "\n",
    "Consider \n",
    "\n",
    "- 5 whites in safe, 0 whites in mix, blacks move \n",
    "- 4 whites in safe, 1 white in mix, blacks move\n",
    "- 3 whites in safe, 2 white in mix, blacks move \n",
    "- 2 whites in safe, 3 white in mix, blacks move \n",
    "- 1 whites in safe, 4 whites in mix, blacks move \n",
    "- 0 whites in safe, 5 whites in mix, blacks move "
   ]
  },
  {
   "cell_type": "code",
   "execution_count": 148,
   "metadata": {},
   "outputs": [
    {
     "name": "stdout",
     "output_type": "stream",
     "text": [
      "4\n",
      "12012.0\n",
      "154440.0\n",
      "443520.0\n",
      "388080.0\n",
      "105840.0\n",
      "7056.0\n",
      "1110948.0\n",
      "4443792.0\n"
     ]
    }
   ],
   "source": [
    "possible_B_configs = 2 * 2 #4\n",
    "print(possible_B_configs)\n",
    "safe_zone_part = special.comb(6,5) * special.comb(14, 5)\n",
    "print(safe_zone_part)\n",
    "safe_mixed_zone_part1 = special.comb(6, 4) * special.comb(8, 1) * special.comb(13, 5)\n",
    "print(safe_mixed_zone_part1 )\n",
    "safe_mixed_zone_part2 = special.comb(6, 3) * special.comb(8, 2) * special.comb(12, 5)\n",
    "print(safe_mixed_zone_part2 )\n",
    "safe_mixed_zone_part3 = special.comb(6, 2) * special.comb(8, 3) * special.comb(11, 5)\n",
    "print(safe_mixed_zone_part3 )\n",
    "safe_mixed_zone_part4 = special.comb(6, 1) * special.comb(8, 4) * special.comb(10, 5)\n",
    "print(safe_mixed_zone_part4 )\n",
    "mixed_zone_part = special.comb(8, 5) * special.comb(9, 5)\n",
    "print(mixed_zone_part )\n",
    "configs_per_B = safe_zone_part  + safe_mixed_zone_part1 + safe_mixed_zone_part2 + safe_mixed_zone_part3 + safe_mixed_zone_part4 + mixed_zone_part \n",
    "print(configs_per_B )\n",
    "total_configs = configs_per_B * possible_B_configs\n",
    "print(total_configs)"
   ]
  },
  {
   "cell_type": "markdown",
   "metadata": {},
   "source": [
    "#### rowSum(B) = $\\begin{bmatrix} 1\\\\ 0\\\\ \\end{bmatrix}$"
   ]
  },
  {
   "cell_type": "markdown",
   "metadata": {},
   "source": [
    "- 5 whites \n",
    "- 6 blacks \n",
    "\n",
    "Consider \n",
    "\n",
    "- 5 whites in safe, 0 whites in mix, blacks move \n",
    "- 4 whites in safe, 1 white in mix, blacks move\n",
    "- 3 whites in safe, 2 white in mix, blacks move \n",
    "- 2 whites in safe, 3 white in mix, blacks move \n",
    "- 1 whites in safe, 4 whites in mix, blacks move \n",
    "- 0 whites in safe, 5 whites in mix, blacks move "
   ]
  },
  {
   "cell_type": "code",
   "execution_count": 149,
   "metadata": {},
   "outputs": [
    {
     "name": "stdout",
     "output_type": "stream",
     "text": [
      "2\n",
      "18018.0\n",
      "205920.0\n",
      "517440.0\n",
      "388080.0\n",
      "88200.0\n",
      "4704.0\n",
      "1222362.0\n",
      "2444724.0\n"
     ]
    }
   ],
   "source": [
    "possible_B_configs = 2 * 1 # 2\n",
    "print(possible_B_configs)\n",
    "safe_zone_part = special.comb(6,5) * special.comb(14, 6)\n",
    "print(safe_zone_part)\n",
    "safe_mixed_zone_part1 = special.comb(6, 4) * special.comb(8, 1) * special.comb(13, 6)\n",
    "print(safe_mixed_zone_part1 )\n",
    "safe_mixed_zone_part2 = special.comb(6, 3) * special.comb(8, 2) * special.comb(12, 6)\n",
    "print(safe_mixed_zone_part2 )\n",
    "safe_mixed_zone_part3 = special.comb(6, 2) * special.comb(8, 3) * special.comb(11, 6)\n",
    "print(safe_mixed_zone_part3 )\n",
    "safe_mixed_zone_part4 = special.comb(6, 1) * special.comb(8, 4) * special.comb(10, 6)\n",
    "print(safe_mixed_zone_part4 )\n",
    "mixed_zone_part = special.comb(8, 5) * special.comb(9, 6)\n",
    "print(mixed_zone_part )\n",
    "configs_per_B = safe_zone_part  + safe_mixed_zone_part1 + safe_mixed_zone_part2 + safe_mixed_zone_part3 + safe_mixed_zone_part4 + mixed_zone_part \n",
    "print(configs_per_B )\n",
    "total_configs = configs_per_B * possible_B_configs\n",
    "print(total_configs)"
   ]
  },
  {
   "cell_type": "markdown",
   "metadata": {},
   "source": [
    "#### rowSum(B) = $\\begin{bmatrix} 0\\\\ 0\\\\ \\end{bmatrix}$"
   ]
  },
  {
   "cell_type": "markdown",
   "metadata": {},
   "source": [
    "- 6 whites \n",
    "- 6 blacks \n",
    "\n",
    "Consider \n",
    "\n",
    "- 6 whites in safe, 0 whites in mix, blacks move \n",
    "- 5 whites in safe, 1 white in mix, blacks move\n",
    "- 4 whites in safe, 2 white in mix, blacks move \n",
    "- 3 whites in safe, 3 white in mix, blacks move \n",
    "- 2 whites in safe, 4 whites in mix, blacks move \n",
    "- 1 whites in safe, 5 whites in mix, blacks move \n",
    "- 0 whites in safe, 6 whites in mix, black moves "
   ]
  },
  {
   "cell_type": "code",
   "execution_count": 151,
   "metadata": {},
   "outputs": [
    {
     "name": "stdout",
     "output_type": "stream",
     "text": [
      "1\n",
      "3003.0\n",
      "82368.0\n",
      "388080.0\n",
      "517440.0\n",
      "220500.0\n",
      "28224.0\n",
      "784.0\n",
      "1240399.0\n",
      "1240399.0\n"
     ]
    }
   ],
   "source": [
    "possible_B_configs =1 # 1\n",
    "print(possible_B_configs)\n",
    "safe_zone_part = special.comb(6,6) * special.comb(14, 6)\n",
    "print(safe_zone_part)\n",
    "safe_mixed_zone_part1 = special.comb(6, 5) * special.comb(8, 1) * special.comb(13, 6)\n",
    "print(safe_mixed_zone_part1 )\n",
    "safe_mixed_zone_part2 = special.comb(6, 4) * special.comb(8, 2) * special.comb(12, 6)\n",
    "print(safe_mixed_zone_part2 )\n",
    "safe_mixed_zone_part3 = special.comb(6, 3) * special.comb(8, 3) * special.comb(11, 6)\n",
    "print(safe_mixed_zone_part3 )\n",
    "safe_mixed_zone_part4 = special.comb(6, 2) * special.comb(8, 4) * special.comb(10, 6)\n",
    "print(safe_mixed_zone_part4 )\n",
    "safe_mixed_zone_part5 = special.comb(6, 1) * special.comb(8, 5) * special.comb(9, 6)\n",
    "print(safe_mixed_zone_part5 )\n",
    "mixed_zone_part = special.comb(8, 6) * special.comb(8, 6)\n",
    "print(mixed_zone_part )\n",
    "configs_per_B = safe_zone_part  + safe_mixed_zone_part1 + safe_mixed_zone_part2 + safe_mixed_zone_part3 + safe_mixed_zone_part4 + safe_mixed_zone_part5 + mixed_zone_part \n",
    "print(configs_per_B )\n",
    "total_configs = configs_per_B * possible_B_configs\n",
    "print(total_configs)"
   ]
  },
  {
   "cell_type": "markdown",
   "metadata": {},
   "source": []
  }
 ],
 "metadata": {
  "kernelspec": {
   "display_name": "Python 3",
   "language": "python",
   "name": "python3"
  },
  "language_info": {
   "codemirror_mode": {
    "name": "ipython",
    "version": 3
   },
   "file_extension": ".py",
   "mimetype": "text/x-python",
   "name": "python",
   "nbconvert_exporter": "python",
   "pygments_lexer": "ipython3",
   "version": "3.6.3"
  }
 },
 "nbformat": 4,
 "nbformat_minor": 2
}
