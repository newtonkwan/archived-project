{
 "cells": [
  {
   "cell_type": "markdown",
   "metadata": {},
   "source": [
    "## Computers the number of game states in the game of ur (smaller version) "
   ]
  },
  {
   "cell_type": "markdown",
   "metadata": {},
   "source": [
    "### Matrix representation of board\n",
    "\n",
    "Let $A$ be a matrix = \n",
    "$$\n",
    "\\begin{bmatrix}\n",
    "    W1 & W0 & W3 & W2\\\\\n",
    "    N1 & N2 & N3 & N4\\\\\n",
    "    B1 & B0 & B3 & B2\\\\\n",
    "\\end{bmatrix}\n",
    "$$\n",
    "\n",
    "where \n",
    "- $Wn$ are white only tiles\n",
    "- $Bn$ are black only tiles \n",
    "- $Nn$ are neutral tiles. \n",
    "- $B0$ and $W0$ are the beginning tiles and can hold up to 2 of their respective colors; $B3$ and $W3$ are the end tiles and can hold up to 2 of their respective colors. "
   ]
  },
  {
   "cell_type": "markdown",
   "metadata": {},
   "source": [
    "## Redefining gamestate representation"
   ]
  },
  {
   "cell_type": "markdown",
   "metadata": {},
   "source": [
    "We redefine the way in which we specify a gamestate. For our 3x4 grid, now uniquely ID a gamestate with a 12 digit string.\n",
    "\n",
    "Ex: '000000003040'\n",
    "\n",
    "The matrix is mapped into this 12-digit string as follows \n",
    "\n",
    "$$ \\text{W1 W2 N1 N2 N3 N4 B1 B2 W0 W3 B0 B3}$$\n",
    "\n",
    "where \n",
    "\n",
    "0 = no black or white token on tile\n",
    "<br>\n",
    "1 = one white token on tile\n",
    "<br>\n",
    "2 = one black token on tile \n",
    "<br>\n",
    "3 = two white tokens on tile \n",
    "<br>\n",
    "4 = two black tokens on tile \n",
    "<br>\n",
    "\n",
    "Thus, the example I gave earlier maps to the initial gamestate of the board. \n",
    "\n",
    "There are two reasons for the change, which are related to one another. The first reason is for enumerating purposes. When we first specify all of the gamestates, we need to iterate through all the possible combinations. Making the first 8 digits base 3 and the last 4 digits base 5 reduces the number of invalid gamestates when we first initialize the gamestates '000000000000' to '11000003040'. The second reason is a matter of storage. Even if we wait a long time for the computer to iterate through all of the numbers, we have to somehow store all of these digits. We want to minimize the amount of storage we need to use. \n",
    "\n",
    "We will approach counting gamestates using the same method we used to find gamestates in the larger version of the game 3x8. "
   ]
  },
  {
   "cell_type": "markdown",
   "metadata": {},
   "source": [
    "## Matrix B"
   ]
  },
  {
   "cell_type": "markdown",
   "metadata": {},
   "source": [
    "Let B = \n",
    "\n",
    "$$\n",
    "\\begin{bmatrix}\n",
    "    A_{12} & A_{13}\\\\\n",
    "    A_{32} & A_{33}\\\\\n",
    "\\end{bmatrix}\n",
    "$$"
   ]
  },
  {
   "cell_type": "markdown",
   "metadata": {},
   "source": [
    "## Table of gamestates"
   ]
  },
  {
   "cell_type": "markdown",
   "metadata": {},
   "source": [
    "|sum(B)|               rowSum(B)               | gamestates | \n",
    "|------|---------------------------------------|------------|\n",
    "|   4  |$\\begin{bmatrix} 2\\\\ 2\\\\ \\end{bmatrix}$|    6       | \n",
    "|   3  |$\\begin{bmatrix} 2\\\\ 1\\\\ \\end{bmatrix}$|    24      |  \n",
    "|   3  |$\\begin{bmatrix} 1\\\\ 2\\\\ \\end{bmatrix}$|    24      | \n",
    "|   2  |$\\begin{bmatrix} 2\\\\ 0\\\\ \\end{bmatrix}$|    45      | \n",
    "|   2  |$\\begin{bmatrix} 0\\\\ 2\\\\ \\end{bmatrix}$|    45      | \n",
    "|   2  |$\\begin{bmatrix} 1\\\\ 1\\\\ \\end{bmatrix}$|    128     |  \n",
    "|   1  |$\\begin{bmatrix} 1\\\\ 0\\\\ \\end{bmatrix}$|    140     | \n",
    "|   1  |$\\begin{bmatrix} 0\\\\ 1\\\\ \\end{bmatrix}$|    140     | \n",
    "|   0  |$\\begin{bmatrix} 0\\\\ 0\\\\ \\end{bmatrix}$|    131     | "
   ]
  },
  {
   "cell_type": "code",
   "execution_count": 16,
   "metadata": {},
   "outputs": [],
   "source": [
    "from scipy import special"
   ]
  },
  {
   "cell_type": "markdown",
   "metadata": {},
   "source": [
    "#### rowSum(B) = $\\begin{bmatrix} 2\\\\ 2\\\\ \\end{bmatrix}$\n",
    "\n",
    "Consider\n",
    "-0 whites and 0 blacks in safe and neutral \n",
    "= number of b configs = 6 "
   ]
  },
  {
   "cell_type": "code",
   "execution_count": 25,
   "metadata": {},
   "outputs": [
    {
     "name": "stdout",
     "output_type": "stream",
     "text": [
      "6.0\n"
     ]
    }
   ],
   "source": [
    "possible_B_configs = 6 \n",
    "print(6.0)"
   ]
  },
  {
   "cell_type": "markdown",
   "metadata": {},
   "source": [
    "#### rowSum(B) = $\\begin{bmatrix} 2\\\\ 1\\\\ \\end{bmatrix}$\n",
    "\n",
    "Consider \n",
    "- 1 black in safe\n",
    "- 1 black in neutral "
   ]
  },
  {
   "cell_type": "code",
   "execution_count": 18,
   "metadata": {},
   "outputs": [
    {
     "name": "stdout",
     "output_type": "stream",
     "text": [
      "24.0\n"
     ]
    }
   ],
   "source": [
    "possible_B_configs = 4 \n",
    "choose2_6 = special.comb(6, 1)\n",
    "#print(choose2_6)\n",
    "combinations2_0 = possible_B_configs*choose2_6\n",
    "print(combinations2_0)"
   ]
  },
  {
   "cell_type": "markdown",
   "metadata": {},
   "source": [
    "#### rowSum(B) = $\\begin{bmatrix} 2\\\\ 0\\\\ \\end{bmatrix}$\n",
    "\n",
    "Consider: \n",
    "-2 blacks anywhere"
   ]
  },
  {
   "cell_type": "code",
   "execution_count": 19,
   "metadata": {},
   "outputs": [
    {
     "name": "stdout",
     "output_type": "stream",
     "text": [
      "45.0\n"
     ]
    }
   ],
   "source": [
    "possible_B_configs = 3 \n",
    "choose2_6 = special.comb(6, 2)\n",
    "#print(choose2_6)\n",
    "combinations2_0 = possible_B_configs*choose2_6\n",
    "print(combinations2_0)"
   ]
  },
  {
   "cell_type": "markdown",
   "metadata": {},
   "source": [
    "#### rowSum(B) = $\\begin{bmatrix} 1\\\\ 1\\\\ \\end{bmatrix}$\n",
    "\n",
    "Consider\n",
    "-1 white in safe, 1 black elsewhere\n",
    "-1 white in neutral, 1 black elsewhere"
   ]
  },
  {
   "cell_type": "code",
   "execution_count": 21,
   "metadata": {},
   "outputs": [
    {
     "name": "stdout",
     "output_type": "stream",
     "text": [
      "128.0\n"
     ]
    }
   ],
   "source": [
    "possible_B_configs = 4 \n",
    "#print(possible_B_configs)\n",
    "safe_zone_part = special.comb(2, 1) * special.comb(6, 1)\n",
    "#print(safe_zone_part)\n",
    "mixed_zone_part = special.comb(4,1) * special.comb(5, 1)\n",
    "#print(mixed_zone_part)\n",
    "configs_per_B = safe_zone_part+ mixed_zone_part \n",
    "#print(configs_per_B)\n",
    "total_configs = configs_per_B * possible_B_configs \n",
    "print(total_configs)"
   ]
  },
  {
   "cell_type": "markdown",
   "metadata": {},
   "source": [
    "#### rowSum(B) = $\\begin{bmatrix} 1\\\\ 0\\\\ \\end{bmatrix}$\n",
    "\n",
    "Consider \n",
    "-1 white in safe, 2 blacks elsewhere\n",
    "-1 white in neutral, 2 blacks elsewhere"
   ]
  },
  {
   "cell_type": "code",
   "execution_count": 22,
   "metadata": {},
   "outputs": [
    {
     "name": "stdout",
     "output_type": "stream",
     "text": [
      "140.0\n"
     ]
    }
   ],
   "source": [
    "possible_B_configs = 2 \n",
    "#print(possible_B_configs)\n",
    "safe_zone_part = special.comb(2, 1) * special.comb(6, 2)\n",
    "#print(safe_zone_part)\n",
    "mixed_zone_part = special.comb(4,1) * special.comb(5, 2)\n",
    "#print(mixed_zone_part)\n",
    "configs_per_B = safe_zone_part+ mixed_zone_part \n",
    "#print(configs_per_B)\n",
    "total_configs = configs_per_B * possible_B_configs \n",
    "print(total_configs)"
   ]
  },
  {
   "cell_type": "markdown",
   "metadata": {},
   "source": [
    "#### rowSum(B) = $\\begin{bmatrix} 0\\\\ 0\\\\ \\end{bmatrix}$\n",
    "\n",
    "Consider\n",
    "-2 white in safe, 2 blacks elsewhere\n",
    "-1 white in safe, 1 white in neutral, 2 blacks elsewhere\n",
    "-2 whites in neutral, 2 blacks elsewhere"
   ]
  },
  {
   "cell_type": "code",
   "execution_count": 23,
   "metadata": {},
   "outputs": [
    {
     "name": "stdout",
     "output_type": "stream",
     "text": [
      "131.0\n"
     ]
    }
   ],
   "source": [
    "possible_B_configs = 1 \n",
    "#print(possible_B_configs)\n",
    "safe_zone_part = special.comb(2, 2) * special.comb(6, 2)\n",
    "#print(safe_zone_part)\n",
    "safe_mixed_zone_part = special.comb(2, 1) * special.comb(4, 1) * special.comb(5, 2)\n",
    "#print(safe_mixed_zone_part)\n",
    "mixed_zone_part = special.comb(4,2) * special.comb(4, 2)\n",
    "#print(mixed_zone_part)\n",
    "configs_per_B = safe_zone_part + safe_mixed_zone_part + mixed_zone_part \n",
    "#print(configs_per_B)\n",
    "total_configs = configs_per_B * possible_B_configs \n",
    "print(total_configs)"
   ]
  },
  {
   "cell_type": "code",
   "execution_count": 29,
   "metadata": {},
   "outputs": [
    {
     "name": "stdout",
     "output_type": "stream",
     "text": [
      "683.0\n"
     ]
    }
   ],
   "source": [
    "total_moves = 2*sum([140.0, 45.0, 24.0]) # don't include non duplicates\n",
    "total_moves = total_moves + 6 + 128 + 131\n",
    "print(total_moves)"
   ]
  },
  {
   "cell_type": "code",
   "execution_count": null,
   "metadata": {},
   "outputs": [],
   "source": []
  }
 ],
 "metadata": {
  "kernelspec": {
   "display_name": "Python 3",
   "language": "python",
   "name": "python3"
  },
  "language_info": {
   "codemirror_mode": {
    "name": "ipython",
    "version": 3
   },
   "file_extension": ".py",
   "mimetype": "text/x-python",
   "name": "python",
   "nbconvert_exporter": "python",
   "pygments_lexer": "ipython3",
   "version": "3.6.3"
  }
 },
 "nbformat": 4,
 "nbformat_minor": 2
}
