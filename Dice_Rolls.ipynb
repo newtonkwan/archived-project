{
 "cells": [
  {
   "cell_type": "code",
   "execution_count": 50,
   "metadata": {},
   "outputs": [
    {
     "name": "stdout",
     "output_type": "stream",
     "text": [
      "0.03905478323288236\n",
      "Dice roll 0\n",
      "0\n"
     ]
    }
   ],
   "source": [
    "# This is how the dice roll will be implemented for the \n",
    "\n",
    "import numpy as np\n",
    "\n",
    "# Divide possible rolls from [0,1]\n",
    "roll_zero = (0, 1/16)\n",
    "roll_one = (roll_zero[1], roll_zero[1] + 4/16)\n",
    "roll_two = (roll_one[1], roll_one[1] + 6/16)\n",
    "roll_three = (roll_two[1], roll_two[1] + 4/16)\n",
    "roll_four = (roll_three[1], roll_three[1] + 1/16)\n",
    "\n",
    "#np.random.seed(1)\n",
    "dice_roll = np.random.random_sample()\n",
    "print(dice_roll)\n",
    "\n",
    "if (dice_roll > roll_zero[0]) and (dice_roll < roll_zero[1]):\n",
    "    dice_roll_int = 0\n",
    "    print(\"Dice roll 0\")\n",
    "if (dice_roll > roll_one[0]) and (dice_roll < roll_one[1]):\n",
    "    dice_roll_int = 1\n",
    "    print(\"Dice roll 1\")\n",
    "if (dice_roll > roll_two[0]) and (dice_roll < roll_two[1]):\n",
    "    dice_roll_int = 2\n",
    "    print(\"Dice roll 2\")\n",
    "if (dice_roll > roll_three[0]) and (dice_roll < roll_three[1]):\n",
    "    dice_roll_int = 3\n",
    "    print(\"Dice roll 3\")\n",
    "if (dice_roll > roll_four[0]) and (dice_roll < roll_four[1]):\n",
    "    dice_roll_int = 4\n",
    "    print(\"Dice roll 4\")\n",
    "\n",
    "print(dice_roll_int)\n"
   ]
  },
  {
   "cell_type": "code",
   "execution_count": null,
   "metadata": {},
   "outputs": [],
   "source": []
  },
  {
   "cell_type": "code",
   "execution_count": null,
   "metadata": {},
   "outputs": [],
   "source": []
  }
 ],
 "metadata": {
  "kernelspec": {
   "display_name": "Python 3",
   "language": "python",
   "name": "python3"
  },
  "language_info": {
   "codemirror_mode": {
    "name": "ipython",
    "version": 3
   },
   "file_extension": ".py",
   "mimetype": "text/x-python",
   "name": "python",
   "nbconvert_exporter": "python",
   "pygments_lexer": "ipython3",
   "version": "3.6.3"
  }
 },
 "nbformat": 4,
 "nbformat_minor": 2
}
