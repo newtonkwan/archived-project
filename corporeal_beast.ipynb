{
 "cells": [
  {
   "cell_type": "markdown",
   "metadata": {},
   "source": [
    "# Corporeal Beast Sheet \n",
    "\n",
    "### Calculates statistics for the corporeal beast using drop rates from Alora (RSPS)\n",
    "\n",
    "- Gold / hour \n",
    "- Probability of receiving a sigil or pet \n",
    "- Number of kills needed to have 90% chance of having received at least one notable drop \n",
    "- Current killcount\n",
    "- Hours spent \n",
    "- Time left until 90% chance of having received a notable drop \n",
    "- Likelihood of having received a notable drop by now "
   ]
  },
  {
   "cell_type": "code",
   "execution_count": 1,
   "metadata": {},
   "outputs": [],
   "source": [
    "# import packages \n",
    "import numpy as np"
   ]
  },
  {
   "cell_type": "code",
   "execution_count": 2,
   "metadata": {},
   "outputs": [],
   "source": [
    "# Constants \n",
    "\n",
    "kill_time = 6 * 60                      # Time per kill (in seconds)\n",
    "banktime = 45                           # banktime (in seconds)\n",
    "time_per_kill = kill_time + banktime    # time per kill plus banking (in seconds)\n",
    "kph = 3600 / time_per_kill              # kills per hour \n",
    "sigildr = 7 / 3333                      # chance of hitting the sigil drop table \n",
    "spectraldr = 3 / 3333                   # chance of getting a spectral sigil \n",
    "arcanedr = 3/ 3333                      # chance of getting an arcane sigil\n",
    "elydr = 1 / 3333                        # chance of getting an elysian sigil\n",
    "petdr = 1 / 5000                        # chance of getting the corp pet\n",
    "spectral_price = 200                    # 200m  \n",
    "arcane_price = 1000                     # 1000m = 1b \n",
    "ely_price = 4500                        # 5000m = 5b \n"
   ]
  },
  {
   "cell_type": "code",
   "execution_count": 3,
   "metadata": {},
   "outputs": [
    {
     "name": "stdout",
     "output_type": "stream",
     "text": [
      "You can expect to make 21.6 m gp per hour killing corp\n"
     ]
    }
   ],
   "source": [
    "# Calculating the gp per hour \n",
    "\n",
    "Ev = spectral_price*spectraldr + arcane_price*arcanedr + ely_price*elydr\n",
    "corp_gp_per_hour = kph * Ev\n",
    "print(\"You can expect to make\", round(corp_gp_per_hour, 1), \"m gp per hour killing corp\")"
   ]
  },
  {
   "cell_type": "markdown",
   "metadata": {},
   "source": [
    "Calculates the number of kills x needed for a 90% chance of receiving a drop with drop rate d \n",
    "\n",
    "Let $x$ be the number of kills needed \n",
    "<br> \n",
    "Let $d$ be the drop rate [0, 1]\n",
    "\n",
    "\n",
    "$$ 1 - (1 - d)^x = .9 $$\n",
    "$$ .1 = (1 - d)^x$$\n",
    "$$ ln(.1) = ln(1 - d)^{-x}$$\n",
    "$$ ln(.1) = xln(1-d) $$\n",
    "$$ x = \\frac{ln(.1)}{ln (1-d)} $$\n",
    "$$ x = \\frac{ln(.1)}{ln (1 - (1/3333))}$$"
   ]
  },
  {
   "cell_type": "code",
   "execution_count": 4,
   "metadata": {},
   "outputs": [],
   "source": [
    "# Calculating the number of kills needed to receive at least one drop with probabilty 90% \n",
    "\n",
    "def ninety_percent_chance(droprate):\n",
    "    '''\n",
    "    Returns the number of kills needed to have a 90% chance of\n",
    "    receiving at least one drop with droprate\n",
    "    '''\n",
    "    return np.log(.1) / np.log(1 - droprate)"
   ]
  },
  {
   "cell_type": "code",
   "execution_count": 5,
   "metadata": {},
   "outputs": [
    {
     "name": "stdout",
     "output_type": "stream",
     "text": [
      "Kill 1095.0 corp beasts for a 90% chance of receiving at least one sigil\n",
      "Kill 2557.0 corp beasts for a 90% chance of receiving an spectral\n",
      "Kill 2557.0 corp beasts for a 90% chance of receiving an arcane\n",
      "Kill 7673.0 corp beasts for a 90% chance of receiving an ely\n",
      "Kill 11512.0 corp beasts for a 90% chance of receiving the pet\n"
     ]
    }
   ],
   "source": [
    "# For any sigil drop\n",
    "ninety_percent_sigil = ninety_percent_chance(sigildr) # kc needed for a 90% of having received at least one sigil \n",
    "print(\"Kill\", ninety_percent_sigil.round(), \"corp beasts for a 90% chance of receiving at least one sigil\")\n",
    "\n",
    "# For spectral \n",
    "ninety_percent_spectral= ninety_percent_chance(spectraldr) #kc needed for a 90% of having received at least one spectral \n",
    "print(\"Kill\", ninety_percent_spectral.round(), \"corp beasts for a 90% chance of receiving an spectral\")\n",
    "\n",
    "# For arcane \n",
    "ninety_percent_arcane = ninety_percent_chance(arcanedr) # kc needed for a 90% of having received at least one arcane\n",
    "print(\"Kill\", ninety_percent_arcane.round(), \"corp beasts for a 90% chance of receiving an arcane\")\n",
    "\n",
    "# For ely\n",
    "ninety_percent_ely = ninety_percent_chance(elydr) # kc needed for a 90% of having received at least one ely \n",
    "print(\"Kill\", ninety_percent_ely.round(), \"corp beasts for a 90% chance of receiving an ely\")\n",
    "\n",
    "# For pet\n",
    "ninety_percent_pet = ninety_percent_chance(petdr) # kc needed for a 90% of having received at least one pet \n",
    "print(\"Kill\", ninety_percent_pet.round(), \"corp beasts for a 90% chance of receiving the pet\")"
   ]
  },
  {
   "cell_type": "code",
   "execution_count": 6,
   "metadata": {},
   "outputs": [],
   "source": [
    "# current kc \n",
    "kc = 1115\n",
    "\n",
    "# hours spent \n",
    "current_hours_spent = kc/kph"
   ]
  },
  {
   "cell_type": "code",
   "execution_count": 7,
   "metadata": {},
   "outputs": [
    {
     "name": "stdout",
     "output_type": "stream",
     "text": [
      "Current KC: 1115\n",
      "Current hours spent: 125\n",
      "\n",
      "It takes 6.75 minutes to kill one corp + bank\n",
      "You can kill 9.0 corps per hour\n",
      "\n",
      "It will take -2 more hours or -0.1 days to have a 90% chance of getting a sigil drop\n",
      "It will take 162 more hours or 6.8 days to have a 90% chance of getting a spectral drop\n",
      "It will take 162 more hours or 6.8 days to have a 90% chance of getting an arcane drop\n",
      "It will take 737 more hours or 30.7 days to have a 90% chance of getting an ely drop\n",
      "It will take 1169 more hours or 48.7 days to have a 90% chance of getting a pet drop\n"
     ]
    }
   ],
   "source": [
    "# Calculating how many hours it will take to kill enough corps to get aleast one of each drop with probabilty of .9\n",
    "\n",
    "print(\"Current KC:\", kc)\n",
    "print(\"Current hours spent:\", int(current_hours_spent))\n",
    "print()\n",
    "print(\"It takes\", time_per_kill/60, \"minutes to kill one corp + bank\")\n",
    "print(\"You can kill\", round(kph, 0), \"corps per hour\")\n",
    "print()\n",
    "\n",
    "#Sigil \n",
    "sigil_hours = ninety_percent_sigil/kph\n",
    "sigil_days = sigil_hours/24\n",
    "#print(\"It will take\", int(sigil_hours), \"hours or\", round(sigil_days, 1), \"days to have a 90% chance of getting a sigil drop\")\n",
    "print(\"It will take\", int(sigil_hours - current_hours_spent), \"more hours or\", round(sigil_days - (current_hours_spent/24), 1), \"days to have a 90% chance of getting a sigil drop\")\n",
    "\n",
    "#Spectral\n",
    "spectral_hours = ninety_percent_spectral/kph\n",
    "spectral_days = spectral_hours/24\n",
    "#print(\"It will take\", int(spectral_hours), \"hours or\", round(spectral_days, 1), \"days to have a 90% chance of getting a spectral drop\")\n",
    "print(\"It will take\", int(spectral_hours - current_hours_spent), \"more hours or\", round(spectral_days - (current_hours_spent/24), 1), \"days to have a 90% chance of getting a spectral drop\")\n",
    "\n",
    "#Arcane \n",
    "arcane_hours = ninety_percent_arcane/kph\n",
    "arcane_days = arcane_hours/24\n",
    "#print(\"It will take\", int(arcane_hours), \"hours or\", round(arcane_days, 1), \"days to have a 90% chance of getting an arcane drop\")\n",
    "print(\"It will take\", int(arcane_hours - current_hours_spent), \"more hours or\", round(arcane_days - (current_hours_spent/24), 1), \"days to have a 90% chance of getting an arcane drop\")\n",
    "\n",
    "#Ely \n",
    "ely_hours = ninety_percent_ely/kph\n",
    "ely_days = ely_hours/24\n",
    "#print(\"It will take\", int(ely_hours), \"hours or\", round(ely_days, 1), \"days to have a 90% chance of getting an ely drop\")\n",
    "print(\"It will take\", int(ely_hours - current_hours_spent), \"more hours or\", round(ely_days - (current_hours_spent/24), 1), \"days to have a 90% chance of getting an ely drop\")\n",
    "\n",
    "#Pet \n",
    "pet_hours = ninety_percent_pet/kph\n",
    "pet_days = pet_hours/24\n",
    "#print(\"It will take\", int(pet_hours), \"hours or\", round(pet_days, 1), \"days to have a 90% chance of getting the pet drop\")\n",
    "print(\"It will take\", int(pet_hours - current_hours_spent), \"more hours or\", round(pet_days - (current_hours_spent/24), 1), \"days to have a 90% chance of getting a pet drop\")"
   ]
  },
  {
   "cell_type": "code",
   "execution_count": 8,
   "metadata": {},
   "outputs": [],
   "source": [
    "# current likelihood of having received at least one drop \n",
    "\n",
    "def current_likelihood(droprate, kc):\n",
    "    return 1 - (1 - droprate)**kc"
   ]
  },
  {
   "cell_type": "code",
   "execution_count": 9,
   "metadata": {},
   "outputs": [
    {
     "name": "stdout",
     "output_type": "stream",
     "text": [
      "There is a 0.904 chance of having a gotten a sigil by now\n",
      "There is a 0.634 chance of having gotten a spectral by now\n",
      "There is a 0.634 chance of having gotten an arcane by now\n",
      "There is a 0.284 chance of having gotten an ely by now\n",
      "There is a 0.2 chance of having gotten a pet by now\n"
     ]
    }
   ],
   "source": [
    "# sigil\n",
    "current_sigil_chance = current_likelihood(sigildr, kc)\n",
    "print(\"There is a\", round(current_sigil_chance,3), \"chance of having a gotten a sigil by now\")\n",
    "\n",
    "# spectral \n",
    "current_spectral_chance = current_likelihood(spectraldr, kc)\n",
    "print(\"There is a\", round(current_spectral_chance,3), \"chance of having gotten a spectral by now\")\n",
    "\n",
    "# arcane \n",
    "current_arcane_chance = current_likelihood(arcanedr, kc)\n",
    "print(\"There is a\", round(current_arcane_chance,3), \"chance of having gotten an arcane by now\")\n",
    "\n",
    "# ely \n",
    "current_ely_chance = current_likelihood(elydr, kc)\n",
    "print(\"There is a\", round(current_ely_chance,3), \"chance of having gotten an ely by now\")\n",
    "\n",
    "# pet \n",
    "current_pet_chance = current_likelihood(petdr, kc)\n",
    "print(\"There is a\", round(current_pet_chance,3), \"chance of having gotten a pet by now\")\n",
    "\n"
   ]
  }
 ],
 "metadata": {
  "kernelspec": {
   "display_name": "Python 3",
   "language": "python",
   "name": "python3"
  },
  "language_info": {
   "codemirror_mode": {
    "name": "ipython",
    "version": 3
   },
   "file_extension": ".py",
   "mimetype": "text/x-python",
   "name": "python",
   "nbconvert_exporter": "python",
   "pygments_lexer": "ipython3",
   "version": "3.6.3"
  }
 },
 "nbformat": 4,
 "nbformat_minor": 2
}
